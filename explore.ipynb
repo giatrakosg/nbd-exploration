{
 "cells": [
  {
   "cell_type": "markdown",
   "metadata": {},
   "source": [
    "# National Boundaries Dataset\n",
    "> Εξετάζουμε την μορφή του National Boundaries Dataset και την μετατροπή του σε μορφη RDF.\n",
    "\n",
    "Το National Boundary Database(2014)<cite data-cite=\"7747773/GSWXXBJF\"></cite> είναι ενα dataset που περιγράφει τις διοικητικές μονάδες των Ηνωμένων Πολιτειών της Αμερικής . Για την μετατροπή των δεδομένων σε RDF data και την κατασκεύη του γράφου χρησιμοποιούμε το εργαλείο GeoTriples<cite data-cite=\"7747773/HKUUMBMQ\"></cite> .\n",
    "\n",
    "\n",
    "Ας πάρουμε για παράδειγμα την πολιτεία της **Νέας Υόρκης** . Στο φάκελο data έχουμε το αρχείο gdb , που περιλαμβάνει η NBD για την πολιτεια .Αρχικα , θα κάνουμε χρήση των βιβλιοθηκών fiona <cite data-cite=\"7747773/TE5IM5WW\"></cite> και geopandas <cite data-cite=\"7747773/AUZNIT2Q\"></cite> για την άναγνωση των δεδομένων του gdb.\n"
   ]
  },
  {
   "cell_type": "code",
   "execution_count": 2,
   "metadata": {},
   "outputs": [],
   "source": [
    "%matplotlib inline"
   ]
  },
  {
   "cell_type": "code",
   "execution_count": 3,
   "metadata": {},
   "outputs": [],
   "source": [
    "import fiona \n",
    "import geopandas as gpd\n",
    "import pandas as pd\n",
    "import matplotlib.pyplot as plt\n",
    "import seaborn"
   ]
  },
  {
   "cell_type": "markdown",
   "metadata": {},
   "source": [
    "## Νεα Υορκη\n",
    "<img src=\"images/1280px-Flag_of_New_York.svg.png\" alt=\"Flag\" width=\"300\"  />\n",
    "<img src=\"images/New_York_in_United_States.svg\" alt=\"State\" width=\"300\" />\n",
    "Ξεκινάμε διαβάζοντας το αρχείο και εκτύπωνοντας τα δίαφορα layers."
   ]
  },
  {
   "cell_type": "code",
   "execution_count": 4,
   "metadata": {},
   "outputs": [
    {
     "name": "stdout",
     "output_type": "stream",
     "text": [
      "['GU_CountyOrEquivalent', 'GU_IncorporatedPlace', 'GU_StateOrTerritory', 'GU_MinorCivilDivision', 'GU_Reserve', 'GU_NativeAmericanArea', 'GU_Jurisdictional', 'GU_UnincorporatedPlace', 'GU_PLSSFirstDivision', 'GU_PLSSSpecialSurvey', 'GU_PLSSTownship', 'BPFeatureToMetadata', 'Meta_DatasetDetail', 'Meta_ProcessDetail']\n",
      "14\n"
     ]
    }
   ],
   "source": [
    "filepath = \"./data/GOVTUNIT_New_York_State_GDB.gdb\"\n",
    "\n",
    "layers = fiona.listlayers(filepath)\n",
    "print(layers)\n",
    "print(len(layers))"
   ]
  },
  {
   "cell_type": "markdown",
   "metadata": {},
   "source": [
    "Το αρχείο περιέχει 14 συνολικά layers . Απο αυτά τα 11 παρακάτω αντιστοιχούν σε γεωγραφικά δεδομένα , ενω τα υπόλοιπα περιέχουν πληροφορίες για τα μεταδεδομένα ."
   ]
  },
  {
   "cell_type": "code",
   "execution_count": 5,
   "metadata": {},
   "outputs": [],
   "source": [
    "gulayers = ['GU_CountyOrEquivalent', 'GU_IncorporatedPlace', 'GU_StateOrTerritory', \n",
    "            'GU_MinorCivilDivision', 'GU_Reserve', 'GU_NativeAmericanArea', \n",
    "            'GU_Jurisdictional', 'GU_UnincorporatedPlace', 'GU_PLSSFirstDivision', \n",
    "            'GU_PLSSSpecialSurvey', 'GU_PLSSTownship']"
   ]
  },
  {
   "cell_type": "markdown",
   "metadata": {},
   "source": [
    "Εξετάζουμε την μορφη του κάθε layer."
   ]
  },
  {
   "cell_type": "markdown",
   "metadata": {},
   "source": [
    "Αρχικα , παρατηρούμε οτι το πιο πολυπληθές dataset είναι το GU_MinorCivilDivision με 1170 εγγραφές, ένω το λιγοτερο πολυπληθες - μεγαλυτερο του μηδεν - ειναι το StateOrTerritory με 7. "
   ]
  },
  {
   "cell_type": "code",
   "execution_count": 6,
   "metadata": {},
   "outputs": [
    {
     "data": {
      "text/html": [
       "<div>\n",
       "<style scoped>\n",
       "    .dataframe tbody tr th:only-of-type {\n",
       "        vertical-align: middle;\n",
       "    }\n",
       "\n",
       "    .dataframe tbody tr th {\n",
       "        vertical-align: top;\n",
       "    }\n",
       "\n",
       "    .dataframe thead th {\n",
       "        text-align: right;\n",
       "    }\n",
       "</style>\n",
       "<table border=\"1\" class=\"dataframe\">\n",
       "  <thead>\n",
       "    <tr style=\"text-align: right;\">\n",
       "      <th></th>\n",
       "      <th>Layer Name</th>\n",
       "      <th>Entries</th>\n",
       "      <th>Features</th>\n",
       "    </tr>\n",
       "  </thead>\n",
       "  <tbody>\n",
       "    <tr>\n",
       "      <th>8</th>\n",
       "      <td>GU_PLSSFirstDivision</td>\n",
       "      <td>0</td>\n",
       "      <td>21</td>\n",
       "    </tr>\n",
       "    <tr>\n",
       "      <th>9</th>\n",
       "      <td>GU_PLSSSpecialSurvey</td>\n",
       "      <td>0</td>\n",
       "      <td>20</td>\n",
       "    </tr>\n",
       "    <tr>\n",
       "      <th>10</th>\n",
       "      <td>GU_PLSSTownship</td>\n",
       "      <td>0</td>\n",
       "      <td>21</td>\n",
       "    </tr>\n",
       "    <tr>\n",
       "      <th>2</th>\n",
       "      <td>GU_StateOrTerritory</td>\n",
       "      <td>7</td>\n",
       "      <td>17</td>\n",
       "    </tr>\n",
       "    <tr>\n",
       "      <th>5</th>\n",
       "      <td>GU_NativeAmericanArea</td>\n",
       "      <td>13</td>\n",
       "      <td>18</td>\n",
       "    </tr>\n",
       "    <tr>\n",
       "      <th>12</th>\n",
       "      <td>Meta_DatasetDetail</td>\n",
       "      <td>17</td>\n",
       "      <td>25</td>\n",
       "    </tr>\n",
       "    <tr>\n",
       "      <th>13</th>\n",
       "      <td>Meta_ProcessDetail</td>\n",
       "      <td>17</td>\n",
       "      <td>15</td>\n",
       "    </tr>\n",
       "    <tr>\n",
       "      <th>6</th>\n",
       "      <td>GU_Jurisdictional</td>\n",
       "      <td>43</td>\n",
       "      <td>21</td>\n",
       "    </tr>\n",
       "    <tr>\n",
       "      <th>4</th>\n",
       "      <td>GU_Reserve</td>\n",
       "      <td>64</td>\n",
       "      <td>18</td>\n",
       "    </tr>\n",
       "    <tr>\n",
       "      <th>0</th>\n",
       "      <td>GU_CountyOrEquivalent</td>\n",
       "      <td>90</td>\n",
       "      <td>20</td>\n",
       "    </tr>\n",
       "    <tr>\n",
       "      <th>7</th>\n",
       "      <td>GU_UnincorporatedPlace</td>\n",
       "      <td>604</td>\n",
       "      <td>17</td>\n",
       "    </tr>\n",
       "    <tr>\n",
       "      <th>1</th>\n",
       "      <td>GU_IncorporatedPlace</td>\n",
       "      <td>632</td>\n",
       "      <td>18</td>\n",
       "    </tr>\n",
       "    <tr>\n",
       "      <th>3</th>\n",
       "      <td>GU_MinorCivilDivision</td>\n",
       "      <td>1170</td>\n",
       "      <td>17</td>\n",
       "    </tr>\n",
       "    <tr>\n",
       "      <th>11</th>\n",
       "      <td>BPFeatureToMetadata</td>\n",
       "      <td>2638</td>\n",
       "      <td>3</td>\n",
       "    </tr>\n",
       "  </tbody>\n",
       "</table>\n",
       "</div>"
      ],
      "text/plain": [
       "                Layer Name Entries Features\n",
       "8     GU_PLSSFirstDivision       0       21\n",
       "9     GU_PLSSSpecialSurvey       0       20\n",
       "10         GU_PLSSTownship       0       21\n",
       "2      GU_StateOrTerritory       7       17\n",
       "5    GU_NativeAmericanArea      13       18\n",
       "12      Meta_DatasetDetail      17       25\n",
       "13      Meta_ProcessDetail      17       15\n",
       "6        GU_Jurisdictional      43       21\n",
       "4               GU_Reserve      64       18\n",
       "0    GU_CountyOrEquivalent      90       20\n",
       "7   GU_UnincorporatedPlace     604       17\n",
       "1     GU_IncorporatedPlace     632       18\n",
       "3    GU_MinorCivilDivision    1170       17\n",
       "11     BPFeatureToMetadata    2638        3"
      ]
     },
     "execution_count": 6,
     "metadata": {},
     "output_type": "execute_result"
    }
   ],
   "source": [
    "shapesdf = pd.DataFrame(columns=['Layer Name','Entries','Features'])\n",
    "dfDict = {}\n",
    "for idx,layer in enumerate(layers):\n",
    "    gdf = gpd.read_file(filepath,layer=layer)\n",
    "    dfDict[layer] = gdf\n",
    "    shapesdf.loc[idx] = [layer,gdf.shape[0],gdf.shape[1]]\n",
    "shapesdf = shapesdf.sort_values('Entries')\n",
    "shapesdf.head(n=14)"
   ]
  },
  {
   "cell_type": "markdown",
   "metadata": {},
   "source": [
    "## State Or Territory\n"
   ]
  },
  {
   "cell_type": "markdown",
   "metadata": {},
   "source": [
    "Το Dataset απoτελείται απο 7 εγγραφές . Κάθε μια απο τις εγγράφες αντιστοιχεί σε μια συνορεύουσα πολιτεία .Παρατηρούμε πολλές στήλες που αντιστοιχούν σε χρήσιμες πληροφορίες για κάθε πολιτεία . \n",
    "1. Την πηγή του dataset \n",
    "2. Την Ημερομηνία δημιουργίας \n",
    "3. Ο αριθμός FIPS που είναι μοναδικός για κάθε πολιτεία \n",
    "4. Το όνομα της πολιτείας \n",
    "5. Τον πληθησμό (δεν είναι συμπληρωμένο) \n",
    "6. Το μέγεθος \n",
    "7. την γεωμετρική αναπαράσταση."
   ]
  },
  {
   "cell_type": "code",
   "execution_count": 7,
   "metadata": {},
   "outputs": [
    {
     "data": {
      "text/html": [
       "<div>\n",
       "<style scoped>\n",
       "    .dataframe tbody tr th:only-of-type {\n",
       "        vertical-align: middle;\n",
       "    }\n",
       "\n",
       "    .dataframe tbody tr th {\n",
       "        vertical-align: top;\n",
       "    }\n",
       "\n",
       "    .dataframe thead th {\n",
       "        text-align: right;\n",
       "    }\n",
       "</style>\n",
       "<table border=\"1\" class=\"dataframe\">\n",
       "  <thead>\n",
       "    <tr style=\"text-align: right;\">\n",
       "      <th></th>\n",
       "      <th>Permanent_Identifier</th>\n",
       "      <th>Source_FeatureID</th>\n",
       "      <th>Source_DatasetID</th>\n",
       "      <th>Source_DataDesc</th>\n",
       "      <th>Source_Originator</th>\n",
       "      <th>Data_Security</th>\n",
       "      <th>Distribution_Policy</th>\n",
       "      <th>LoadDate</th>\n",
       "      <th>FCode</th>\n",
       "      <th>State_FIPSCode</th>\n",
       "      <th>State_Name</th>\n",
       "      <th>Population2000</th>\n",
       "      <th>AreaSqKM</th>\n",
       "      <th>GNIS_ID</th>\n",
       "      <th>Shape_Length</th>\n",
       "      <th>Shape_Area</th>\n",
       "      <th>geometry</th>\n",
       "    </tr>\n",
       "  </thead>\n",
       "  <tbody>\n",
       "    <tr>\n",
       "      <th>0</th>\n",
       "      <td>0c35ddcb-9001-4c4f-a99e-dc165ac09a2e</td>\n",
       "      <td>36</td>\n",
       "      <td>fdb7e03d-12ca-49a4-bfe6-437ccdda7183</td>\n",
       "      <td>2018 TIGER/Line Shapefile, Current State and E...</td>\n",
       "      <td>U.S. Census Bureau</td>\n",
       "      <td>5</td>\n",
       "      <td>E4</td>\n",
       "      <td>2019-02-13T00:00:00</td>\n",
       "      <td>61100</td>\n",
       "      <td>36</td>\n",
       "      <td>New York</td>\n",
       "      <td>None</td>\n",
       "      <td>141296.128900</td>\n",
       "      <td>1779796</td>\n",
       "      <td>25.938952</td>\n",
       "      <td>15.580703</td>\n",
       "      <td>MULTIPOLYGON (((-79.31214 42.68681, -79.24977 ...</td>\n",
       "    </tr>\n",
       "    <tr>\n",
       "      <th>1</th>\n",
       "      <td>3f74edca-a184-4133-a3b2-ce01c2d8573d</td>\n",
       "      <td>25</td>\n",
       "      <td>fdb7e03d-12ca-49a4-bfe6-437ccdda7183</td>\n",
       "      <td>2018 TIGER/Line Shapefile, Current State and E...</td>\n",
       "      <td>U.S. Census Bureau</td>\n",
       "      <td>5</td>\n",
       "      <td>E4</td>\n",
       "      <td>2019-02-13T00:00:00</td>\n",
       "      <td>61100</td>\n",
       "      <td>25</td>\n",
       "      <td>Massachusetts</td>\n",
       "      <td>None</td>\n",
       "      <td>27335.048586</td>\n",
       "      <td>606926</td>\n",
       "      <td>12.000554</td>\n",
       "      <td>2.977855</td>\n",
       "      <td>MULTIPOLYGON (((-71.49826 42.01727, -71.49907 ...</td>\n",
       "    </tr>\n",
       "    <tr>\n",
       "      <th>2</th>\n",
       "      <td>5d5e9018-2522-4be4-a755-08cf139945f2</td>\n",
       "      <td>44</td>\n",
       "      <td>fdb7e03d-12ca-49a4-bfe6-437ccdda7183</td>\n",
       "      <td>2018 TIGER/Line Shapefile, Current State and E...</td>\n",
       "      <td>U.S. Census Bureau</td>\n",
       "      <td>5</td>\n",
       "      <td>E4</td>\n",
       "      <td>2019-02-13T00:00:00</td>\n",
       "      <td>61100</td>\n",
       "      <td>44</td>\n",
       "      <td>Rhode Island</td>\n",
       "      <td>None</td>\n",
       "      <td>4001.456019</td>\n",
       "      <td>1219835</td>\n",
       "      <td>3.675822</td>\n",
       "      <td>0.432129</td>\n",
       "      <td>MULTIPOLYGON (((-71.78970 41.72520, -71.78971 ...</td>\n",
       "    </tr>\n",
       "    <tr>\n",
       "      <th>3</th>\n",
       "      <td>0d88ac84-d840-42d6-8630-8a74300edcd1</td>\n",
       "      <td>50</td>\n",
       "      <td>fdb7e03d-12ca-49a4-bfe6-437ccdda7183</td>\n",
       "      <td>2018 TIGER/Line Shapefile, Current State and E...</td>\n",
       "      <td>U.S. Census Bureau</td>\n",
       "      <td>5</td>\n",
       "      <td>E4</td>\n",
       "      <td>2019-02-13T00:00:00</td>\n",
       "      <td>61100</td>\n",
       "      <td>50</td>\n",
       "      <td>Vermont</td>\n",
       "      <td>None</td>\n",
       "      <td>24904.594000</td>\n",
       "      <td>1779802</td>\n",
       "      <td>9.832536</td>\n",
       "      <td>2.798214</td>\n",
       "      <td>MULTIPOLYGON (((-73.31328 44.26413, -73.31274 ...</td>\n",
       "    </tr>\n",
       "    <tr>\n",
       "      <th>4</th>\n",
       "      <td>7cec439c-4b37-477a-9103-259edcdd85bc</td>\n",
       "      <td>09</td>\n",
       "      <td>fdb7e03d-12ca-49a4-bfe6-437ccdda7183</td>\n",
       "      <td>2018 TIGER/Line Shapefile, Current State and E...</td>\n",
       "      <td>U.S. Census Bureau</td>\n",
       "      <td>5</td>\n",
       "      <td>E4</td>\n",
       "      <td>2019-02-13T00:00:00</td>\n",
       "      <td>61100</td>\n",
       "      <td>09</td>\n",
       "      <td>Connecticut</td>\n",
       "      <td>None</td>\n",
       "      <td>14358.115826</td>\n",
       "      <td>1779780</td>\n",
       "      <td>5.718063</td>\n",
       "      <td>1.550106</td>\n",
       "      <td>MULTIPOLYGON (((-73.51808 41.66672, -73.51807 ...</td>\n",
       "    </tr>\n",
       "    <tr>\n",
       "      <th>5</th>\n",
       "      <td>cf7f843c-9d39-446a-8f66-806075fcbf71</td>\n",
       "      <td>34</td>\n",
       "      <td>fdb7e03d-12ca-49a4-bfe6-437ccdda7183</td>\n",
       "      <td>2018 TIGER/Line Shapefile, Current State and E...</td>\n",
       "      <td>U.S. Census Bureau</td>\n",
       "      <td>5</td>\n",
       "      <td>E4</td>\n",
       "      <td>2019-02-13T00:00:00</td>\n",
       "      <td>61100</td>\n",
       "      <td>34</td>\n",
       "      <td>New Jersey</td>\n",
       "      <td>None</td>\n",
       "      <td>22592.685085</td>\n",
       "      <td>1779795</td>\n",
       "      <td>8.546806</td>\n",
       "      <td>2.386717</td>\n",
       "      <td>MULTIPOLYGON (((-75.18960 40.59178, -75.18977 ...</td>\n",
       "    </tr>\n",
       "    <tr>\n",
       "      <th>6</th>\n",
       "      <td>64d9599c-be76-4088-85a6-ac4a4ec31a1b</td>\n",
       "      <td>42</td>\n",
       "      <td>fdb7e03d-12ca-49a4-bfe6-437ccdda7183</td>\n",
       "      <td>2018 TIGER/Line Shapefile, Current State and E...</td>\n",
       "      <td>U.S. Census Bureau</td>\n",
       "      <td>5</td>\n",
       "      <td>E4</td>\n",
       "      <td>2019-02-13T00:00:00</td>\n",
       "      <td>61100</td>\n",
       "      <td>42</td>\n",
       "      <td>Pennsylvania</td>\n",
       "      <td>None</td>\n",
       "      <td>119279.036122</td>\n",
       "      <td>1779798</td>\n",
       "      <td>17.837676</td>\n",
       "      <td>12.747187</td>\n",
       "      <td>MULTIPOLYGON (((-80.51935 41.84956, -80.51938 ...</td>\n",
       "    </tr>\n",
       "  </tbody>\n",
       "</table>\n",
       "</div>"
      ],
      "text/plain": [
       "                   Permanent_Identifier Source_FeatureID  \\\n",
       "0  0c35ddcb-9001-4c4f-a99e-dc165ac09a2e               36   \n",
       "1  3f74edca-a184-4133-a3b2-ce01c2d8573d               25   \n",
       "2  5d5e9018-2522-4be4-a755-08cf139945f2               44   \n",
       "3  0d88ac84-d840-42d6-8630-8a74300edcd1               50   \n",
       "4  7cec439c-4b37-477a-9103-259edcdd85bc               09   \n",
       "5  cf7f843c-9d39-446a-8f66-806075fcbf71               34   \n",
       "6  64d9599c-be76-4088-85a6-ac4a4ec31a1b               42   \n",
       "\n",
       "                       Source_DatasetID  \\\n",
       "0  fdb7e03d-12ca-49a4-bfe6-437ccdda7183   \n",
       "1  fdb7e03d-12ca-49a4-bfe6-437ccdda7183   \n",
       "2  fdb7e03d-12ca-49a4-bfe6-437ccdda7183   \n",
       "3  fdb7e03d-12ca-49a4-bfe6-437ccdda7183   \n",
       "4  fdb7e03d-12ca-49a4-bfe6-437ccdda7183   \n",
       "5  fdb7e03d-12ca-49a4-bfe6-437ccdda7183   \n",
       "6  fdb7e03d-12ca-49a4-bfe6-437ccdda7183   \n",
       "\n",
       "                                     Source_DataDesc   Source_Originator  \\\n",
       "0  2018 TIGER/Line Shapefile, Current State and E...  U.S. Census Bureau   \n",
       "1  2018 TIGER/Line Shapefile, Current State and E...  U.S. Census Bureau   \n",
       "2  2018 TIGER/Line Shapefile, Current State and E...  U.S. Census Bureau   \n",
       "3  2018 TIGER/Line Shapefile, Current State and E...  U.S. Census Bureau   \n",
       "4  2018 TIGER/Line Shapefile, Current State and E...  U.S. Census Bureau   \n",
       "5  2018 TIGER/Line Shapefile, Current State and E...  U.S. Census Bureau   \n",
       "6  2018 TIGER/Line Shapefile, Current State and E...  U.S. Census Bureau   \n",
       "\n",
       "   Data_Security Distribution_Policy             LoadDate  FCode  \\\n",
       "0              5                  E4  2019-02-13T00:00:00  61100   \n",
       "1              5                  E4  2019-02-13T00:00:00  61100   \n",
       "2              5                  E4  2019-02-13T00:00:00  61100   \n",
       "3              5                  E4  2019-02-13T00:00:00  61100   \n",
       "4              5                  E4  2019-02-13T00:00:00  61100   \n",
       "5              5                  E4  2019-02-13T00:00:00  61100   \n",
       "6              5                  E4  2019-02-13T00:00:00  61100   \n",
       "\n",
       "  State_FIPSCode     State_Name Population2000       AreaSqKM  GNIS_ID  \\\n",
       "0             36       New York           None  141296.128900  1779796   \n",
       "1             25  Massachusetts           None   27335.048586   606926   \n",
       "2             44   Rhode Island           None    4001.456019  1219835   \n",
       "3             50        Vermont           None   24904.594000  1779802   \n",
       "4             09    Connecticut           None   14358.115826  1779780   \n",
       "5             34     New Jersey           None   22592.685085  1779795   \n",
       "6             42   Pennsylvania           None  119279.036122  1779798   \n",
       "\n",
       "   Shape_Length  Shape_Area                                           geometry  \n",
       "0     25.938952   15.580703  MULTIPOLYGON (((-79.31214 42.68681, -79.24977 ...  \n",
       "1     12.000554    2.977855  MULTIPOLYGON (((-71.49826 42.01727, -71.49907 ...  \n",
       "2      3.675822    0.432129  MULTIPOLYGON (((-71.78970 41.72520, -71.78971 ...  \n",
       "3      9.832536    2.798214  MULTIPOLYGON (((-73.31328 44.26413, -73.31274 ...  \n",
       "4      5.718063    1.550106  MULTIPOLYGON (((-73.51808 41.66672, -73.51807 ...  \n",
       "5      8.546806    2.386717  MULTIPOLYGON (((-75.18960 40.59178, -75.18977 ...  \n",
       "6     17.837676   12.747187  MULTIPOLYGON (((-80.51935 41.84956, -80.51938 ...  "
      ]
     },
     "execution_count": 7,
     "metadata": {},
     "output_type": "execute_result"
    }
   ],
   "source": [
    "stateDf = dfDict['GU_StateOrTerritory']\n",
    "stateDf.head(n=7)"
   ]
  },
  {
   "cell_type": "markdown",
   "metadata": {},
   "source": [
    "Καλώντας την συνάρτηση plot() παράγουμε ενα γράφημα για με τις πληροφορίες του dataset ."
   ]
  },
  {
   "cell_type": "code",
   "execution_count": 8,
   "metadata": {},
   "outputs": [
    {
     "data": {
      "text/plain": [
       "<matplotlib.axes._subplots.AxesSubplot at 0x7fdf887cac18>"
      ]
     },
     "execution_count": 8,
     "metadata": {},
     "output_type": "execute_result"
    },
    {
     "data": {
      "image/png": "[encoded data removed]",
      "text/plain": [
       "<Figure size 864x1440 with 1 Axes>"
      ]
     },
     "metadata": {
      "needs_background": "light"
     },
     "output_type": "display_data"
    }
   ],
   "source": [
    "stateDf.plot(column='State_Name',figsize=(12, 20))"
   ]
  },
  {
   "cell_type": "markdown",
   "metadata": {},
   "source": [
    "## County Or Equivalent\n",
    "Συνεχίζουμε μελετώντας το layer GU_CountyOrEquivalent .Το dataset περιέχει παρόμοια features με το StateOrTerritory . Περιέχει , επίσης και εγγραφές απο γειτονικές πολιτείες ,(πχ. Wayne County ,PA)"
   ]
  },
  {
   "cell_type": "code",
   "execution_count": 9,
   "metadata": {},
   "outputs": [
    {
     "data": {
      "text/html": [
       "<div>\n",
       "<style scoped>\n",
       "    .dataframe tbody tr th:only-of-type {\n",
       "        vertical-align: middle;\n",
       "    }\n",
       "\n",
       "    .dataframe tbody tr th {\n",
       "        vertical-align: top;\n",
       "    }\n",
       "\n",
       "    .dataframe thead th {\n",
       "        text-align: right;\n",
       "    }\n",
       "</style>\n",
       "<table border=\"1\" class=\"dataframe\">\n",
       "  <thead>\n",
       "    <tr style=\"text-align: right;\">\n",
       "      <th></th>\n",
       "      <th>Permanent_Identifier</th>\n",
       "      <th>Source_FeatureID</th>\n",
       "      <th>Source_DatasetID</th>\n",
       "      <th>Source_DataDesc</th>\n",
       "      <th>Source_Originator</th>\n",
       "      <th>Data_Security</th>\n",
       "      <th>Distribution_Policy</th>\n",
       "      <th>LoadDate</th>\n",
       "      <th>FCode</th>\n",
       "      <th>State_FIPSCode</th>\n",
       "      <th>State_Name</th>\n",
       "      <th>County_FIPSCode</th>\n",
       "      <th>County_Name</th>\n",
       "      <th>StCo_FIPSCode</th>\n",
       "      <th>Population2000</th>\n",
       "      <th>AreaSqKM</th>\n",
       "      <th>GNIS_ID</th>\n",
       "      <th>Shape_Length</th>\n",
       "      <th>Shape_Area</th>\n",
       "      <th>geometry</th>\n",
       "    </tr>\n",
       "  </thead>\n",
       "  <tbody>\n",
       "    <tr>\n",
       "      <th>0</th>\n",
       "      <td>3b6354aa-0aba-4b1f-869e-1ff3f73e5861</td>\n",
       "      <td>36003</td>\n",
       "      <td>2b97941f-8f2a-4cac-ba12-cfdde839faf4</td>\n",
       "      <td>2018 TIGER/Line Shapefile, Current County and ...</td>\n",
       "      <td>U.S. Census Bureau</td>\n",
       "      <td>5</td>\n",
       "      <td>E4</td>\n",
       "      <td>2019-02-20T00:00:00</td>\n",
       "      <td>61200</td>\n",
       "      <td>36</td>\n",
       "      <td>New York</td>\n",
       "      <td>003</td>\n",
       "      <td>Allegany</td>\n",
       "      <td>36003</td>\n",
       "      <td>None</td>\n",
       "      <td>2679.029191</td>\n",
       "      <td>974100</td>\n",
       "      <td>2.198456</td>\n",
       "      <td>0.292288</td>\n",
       "      <td>MULTIPOLYGON (((-78.30919 42.26113, -78.30920 ...</td>\n",
       "    </tr>\n",
       "    <tr>\n",
       "      <th>1</th>\n",
       "      <td>d4001bdd-0698-4d27-9e27-5e5be33aa379</td>\n",
       "      <td>36097</td>\n",
       "      <td>2b97941f-8f2a-4cac-ba12-cfdde839faf4</td>\n",
       "      <td>2018 TIGER/Line Shapefile, Current County and ...</td>\n",
       "      <td>U.S. Census Bureau</td>\n",
       "      <td>5</td>\n",
       "      <td>E4</td>\n",
       "      <td>2019-02-20T00:00:00</td>\n",
       "      <td>61200</td>\n",
       "      <td>36</td>\n",
       "      <td>New York</td>\n",
       "      <td>097</td>\n",
       "      <td>Schuyler</td>\n",
       "      <td>36097</td>\n",
       "      <td>None</td>\n",
       "      <td>886.651825</td>\n",
       "      <td>974146</td>\n",
       "      <td>1.659720</td>\n",
       "      <td>0.096942</td>\n",
       "      <td>MULTIPOLYGON (((-76.73391 42.29372, -76.73392 ...</td>\n",
       "    </tr>\n",
       "    <tr>\n",
       "      <th>2</th>\n",
       "      <td>9dfd3c57-f0d0-44cd-b9f4-e0f201717d71</td>\n",
       "      <td>42127</td>\n",
       "      <td>2b97941f-8f2a-4cac-ba12-cfdde839faf4</td>\n",
       "      <td>2018 TIGER/Line Shapefile, Current County and ...</td>\n",
       "      <td>U.S. Census Bureau</td>\n",
       "      <td>5</td>\n",
       "      <td>E4</td>\n",
       "      <td>2019-02-20T00:00:00</td>\n",
       "      <td>61200</td>\n",
       "      <td>42</td>\n",
       "      <td>Pennsylvania</td>\n",
       "      <td>127</td>\n",
       "      <td>Wayne</td>\n",
       "      <td>42127</td>\n",
       "      <td>None</td>\n",
       "      <td>1944.081751</td>\n",
       "      <td>1213692</td>\n",
       "      <td>2.633211</td>\n",
       "      <td>0.210118</td>\n",
       "      <td>MULTIPOLYGON (((-75.45976 41.59504, -75.45980 ...</td>\n",
       "    </tr>\n",
       "    <tr>\n",
       "      <th>3</th>\n",
       "      <td>3ef00c83-bd33-4dbd-a874-1179e1120f53</td>\n",
       "      <td>36091</td>\n",
       "      <td>2b97941f-8f2a-4cac-ba12-cfdde839faf4</td>\n",
       "      <td>2018 TIGER/Line Shapefile, Current County and ...</td>\n",
       "      <td>U.S. Census Bureau</td>\n",
       "      <td>5</td>\n",
       "      <td>E4</td>\n",
       "      <td>2019-02-20T00:00:00</td>\n",
       "      <td>61200</td>\n",
       "      <td>36</td>\n",
       "      <td>New York</td>\n",
       "      <td>091</td>\n",
       "      <td>Saratoga</td>\n",
       "      <td>36091</td>\n",
       "      <td>None</td>\n",
       "      <td>2185.451813</td>\n",
       "      <td>974143</td>\n",
       "      <td>2.491212</td>\n",
       "      <td>0.241674</td>\n",
       "      <td>MULTIPOLYGON (((-74.12433 43.15390, -74.12457 ...</td>\n",
       "    </tr>\n",
       "    <tr>\n",
       "      <th>4</th>\n",
       "      <td>acf8f726-7f0b-4c18-940e-759fec8fd1c1</td>\n",
       "      <td>36041</td>\n",
       "      <td>2b97941f-8f2a-4cac-ba12-cfdde839faf4</td>\n",
       "      <td>2018 TIGER/Line Shapefile, Current County and ...</td>\n",
       "      <td>U.S. Census Bureau</td>\n",
       "      <td>5</td>\n",
       "      <td>E4</td>\n",
       "      <td>2019-02-20T00:00:00</td>\n",
       "      <td>61200</td>\n",
       "      <td>36</td>\n",
       "      <td>New York</td>\n",
       "      <td>041</td>\n",
       "      <td>Hamilton</td>\n",
       "      <td>36041</td>\n",
       "      <td>None</td>\n",
       "      <td>4682.194334</td>\n",
       "      <td>974119</td>\n",
       "      <td>3.444040</td>\n",
       "      <td>0.522459</td>\n",
       "      <td>MULTIPOLYGON (((-74.82011 43.81851, -74.82038 ...</td>\n",
       "    </tr>\n",
       "    <tr>\n",
       "      <th>5</th>\n",
       "      <td>ec52c387-b1b2-411f-a5ef-d1f9d04501df</td>\n",
       "      <td>36089</td>\n",
       "      <td>2b97941f-8f2a-4cac-ba12-cfdde839faf4</td>\n",
       "      <td>2018 TIGER/Line Shapefile, Current County and ...</td>\n",
       "      <td>U.S. Census Bureau</td>\n",
       "      <td>5</td>\n",
       "      <td>E4</td>\n",
       "      <td>2019-02-20T00:00:00</td>\n",
       "      <td>61200</td>\n",
       "      <td>36</td>\n",
       "      <td>New York</td>\n",
       "      <td>089</td>\n",
       "      <td>St. Lawrence</td>\n",
       "      <td>36089</td>\n",
       "      <td>None</td>\n",
       "      <td>7307.176197</td>\n",
       "      <td>977309</td>\n",
       "      <td>3.798192</td>\n",
       "      <td>0.826795</td>\n",
       "      <td>MULTIPOLYGON (((-74.93945 44.98442, -74.93447 ...</td>\n",
       "    </tr>\n",
       "    <tr>\n",
       "      <th>6</th>\n",
       "      <td>cd261b42-7af5-4974-9714-a8ab2baccfc7</td>\n",
       "      <td>36027</td>\n",
       "      <td>2b97941f-8f2a-4cac-ba12-cfdde839faf4</td>\n",
       "      <td>2018 TIGER/Line Shapefile, Current County and ...</td>\n",
       "      <td>U.S. Census Bureau</td>\n",
       "      <td>5</td>\n",
       "      <td>E4</td>\n",
       "      <td>2019-02-20T00:00:00</td>\n",
       "      <td>61200</td>\n",
       "      <td>36</td>\n",
       "      <td>New York</td>\n",
       "      <td>027</td>\n",
       "      <td>Dutchess</td>\n",
       "      <td>36027</td>\n",
       "      <td>None</td>\n",
       "      <td>2137.634520</td>\n",
       "      <td>974112</td>\n",
       "      <td>2.225778</td>\n",
       "      <td>0.231450</td>\n",
       "      <td>MULTIPOLYGON (((-73.94041 41.87298, -73.94043 ...</td>\n",
       "    </tr>\n",
       "  </tbody>\n",
       "</table>\n",
       "</div>"
      ],
      "text/plain": [
       "                   Permanent_Identifier Source_FeatureID  \\\n",
       "0  3b6354aa-0aba-4b1f-869e-1ff3f73e5861            36003   \n",
       "1  d4001bdd-0698-4d27-9e27-5e5be33aa379            36097   \n",
       "2  9dfd3c57-f0d0-44cd-b9f4-e0f201717d71            42127   \n",
       "3  3ef00c83-bd33-4dbd-a874-1179e1120f53            36091   \n",
       "4  acf8f726-7f0b-4c18-940e-759fec8fd1c1            36041   \n",
       "5  ec52c387-b1b2-411f-a5ef-d1f9d04501df            36089   \n",
       "6  cd261b42-7af5-4974-9714-a8ab2baccfc7            36027   \n",
       "\n",
       "                       Source_DatasetID  \\\n",
       "0  2b97941f-8f2a-4cac-ba12-cfdde839faf4   \n",
       "1  2b97941f-8f2a-4cac-ba12-cfdde839faf4   \n",
       "2  2b97941f-8f2a-4cac-ba12-cfdde839faf4   \n",
       "3  2b97941f-8f2a-4cac-ba12-cfdde839faf4   \n",
       "4  2b97941f-8f2a-4cac-ba12-cfdde839faf4   \n",
       "5  2b97941f-8f2a-4cac-ba12-cfdde839faf4   \n",
       "6  2b97941f-8f2a-4cac-ba12-cfdde839faf4   \n",
       "\n",
       "                                     Source_DataDesc   Source_Originator  \\\n",
       "0  2018 TIGER/Line Shapefile, Current County and ...  U.S. Census Bureau   \n",
       "1  2018 TIGER/Line Shapefile, Current County and ...  U.S. Census Bureau   \n",
       "2  2018 TIGER/Line Shapefile, Current County and ...  U.S. Census Bureau   \n",
       "3  2018 TIGER/Line Shapefile, Current County and ...  U.S. Census Bureau   \n",
       "4  2018 TIGER/Line Shapefile, Current County and ...  U.S. Census Bureau   \n",
       "5  2018 TIGER/Line Shapefile, Current County and ...  U.S. Census Bureau   \n",
       "6  2018 TIGER/Line Shapefile, Current County and ...  U.S. Census Bureau   \n",
       "\n",
       "   Data_Security Distribution_Policy             LoadDate  FCode  \\\n",
       "0              5                  E4  2019-02-20T00:00:00  61200   \n",
       "1              5                  E4  2019-02-20T00:00:00  61200   \n",
       "2              5                  E4  2019-02-20T00:00:00  61200   \n",
       "3              5                  E4  2019-02-20T00:00:00  61200   \n",
       "4              5                  E4  2019-02-20T00:00:00  61200   \n",
       "5              5                  E4  2019-02-20T00:00:00  61200   \n",
       "6              5                  E4  2019-02-20T00:00:00  61200   \n",
       "\n",
       "  State_FIPSCode    State_Name County_FIPSCode   County_Name StCo_FIPSCode  \\\n",
       "0             36      New York             003      Allegany         36003   \n",
       "1             36      New York             097      Schuyler         36097   \n",
       "2             42  Pennsylvania             127         Wayne         42127   \n",
       "3             36      New York             091      Saratoga         36091   \n",
       "4             36      New York             041      Hamilton         36041   \n",
       "5             36      New York             089  St. Lawrence         36089   \n",
       "6             36      New York             027      Dutchess         36027   \n",
       "\n",
       "  Population2000     AreaSqKM  GNIS_ID  Shape_Length  Shape_Area  \\\n",
       "0           None  2679.029191   974100      2.198456    0.292288   \n",
       "1           None   886.651825   974146      1.659720    0.096942   \n",
       "2           None  1944.081751  1213692      2.633211    0.210118   \n",
       "3           None  2185.451813   974143      2.491212    0.241674   \n",
       "4           None  4682.194334   974119      3.444040    0.522459   \n",
       "5           None  7307.176197   977309      3.798192    0.826795   \n",
       "6           None  2137.634520   974112      2.225778    0.231450   \n",
       "\n",
       "                                            geometry  \n",
       "0  MULTIPOLYGON (((-78.30919 42.26113, -78.30920 ...  \n",
       "1  MULTIPOLYGON (((-76.73391 42.29372, -76.73392 ...  \n",
       "2  MULTIPOLYGON (((-75.45976 41.59504, -75.45980 ...  \n",
       "3  MULTIPOLYGON (((-74.12433 43.15390, -74.12457 ...  \n",
       "4  MULTIPOLYGON (((-74.82011 43.81851, -74.82038 ...  \n",
       "5  MULTIPOLYGON (((-74.93945 44.98442, -74.93447 ...  \n",
       "6  MULTIPOLYGON (((-73.94041 41.87298, -73.94043 ...  "
      ]
     },
     "execution_count": 9,
     "metadata": {},
     "output_type": "execute_result"
    }
   ],
   "source": [
    "countyDf = dfDict['GU_CountyOrEquivalent']\n",
    "countyDf.head(n=7)"
   ]
  },
  {
   "cell_type": "code",
   "execution_count": 10,
   "metadata": {},
   "outputs": [
    {
     "name": "stdout",
     "output_type": "stream",
     "text": [
      "62\n"
     ]
    },
    {
     "data": {
      "image/png": "[encoded data removed]",
      "text/plain": [
       "<Figure size 864x1440 with 1 Axes>"
      ]
     },
     "metadata": {
      "needs_background": "light"
     },
     "output_type": "display_data"
    }
   ],
   "source": [
    "nycounties = countyDf.loc[countyDf['State_Name'] == 'New York']\n",
    "countyDf.loc[countyDf['State_Name'] == 'New York'].plot(figsize=(12, 20))\n",
    "plt.title('County or Equivalent Governmental Units in the State of New York')\n",
    "print(nycounties.shape[0])"
   ]
  },
  {
   "cell_type": "markdown",
   "metadata": {},
   "source": [
    "## Minor Civil Division\n"
   ]
  },
  {
   "cell_type": "markdown",
   "metadata": {},
   "source": [
    "### Data"
   ]
  },
  {
   "cell_type": "code",
   "execution_count": 30,
   "metadata": {},
   "outputs": [
    {
     "data": {
      "text/html": [
       "<div>\n",
       "<style scoped>\n",
       "    .dataframe tbody tr th:only-of-type {\n",
       "        vertical-align: middle;\n",
       "    }\n",
       "\n",
       "    .dataframe tbody tr th {\n",
       "        vertical-align: top;\n",
       "    }\n",
       "\n",
       "    .dataframe thead th {\n",
       "        text-align: right;\n",
       "    }\n",
       "</style>\n",
       "<table border=\"1\" class=\"dataframe\">\n",
       "  <thead>\n",
       "    <tr style=\"text-align: right;\">\n",
       "      <th></th>\n",
       "      <th>Permanent_Identifier</th>\n",
       "      <th>Source_FeatureID</th>\n",
       "      <th>Source_DatasetID</th>\n",
       "      <th>Source_DataDesc</th>\n",
       "      <th>Source_Originator</th>\n",
       "      <th>Data_Security</th>\n",
       "      <th>Distribution_Policy</th>\n",
       "      <th>LoadDate</th>\n",
       "      <th>FCode</th>\n",
       "      <th>State_Name</th>\n",
       "      <th>MinorCivilDivision_FIPSCode</th>\n",
       "      <th>MinorCivilDivision_Name</th>\n",
       "      <th>AreaSqKM</th>\n",
       "      <th>GNIS_ID</th>\n",
       "      <th>Shape_Length</th>\n",
       "      <th>Shape_Area</th>\n",
       "      <th>geometry</th>\n",
       "    </tr>\n",
       "  </thead>\n",
       "  <tbody>\n",
       "    <tr>\n",
       "      <th>0</th>\n",
       "      <td>9bd8f5c2-3078-4dfd-b91e-a05b308e77bf</td>\n",
       "      <td>3604342752</td>\n",
       "      <td>96cc8b4f-01cf-4089-aa13-a8b43d8e1837</td>\n",
       "      <td>Minor Civil Divsion - 2018</td>\n",
       "      <td>US Census Bureau</td>\n",
       "      <td>5</td>\n",
       "      <td>E4</td>\n",
       "      <td>2019-02-04T00:00:00</td>\n",
       "      <td>61346</td>\n",
       "      <td>New York</td>\n",
       "      <td>42752</td>\n",
       "      <td>Little Falls</td>\n",
       "      <td>58.282337</td>\n",
       "      <td>979158</td>\n",
       "      <td>0.432772</td>\n",
       "      <td>0.006436</td>\n",
       "      <td>MULTIPOLYGON (((-74.92909 43.08087, -74.92191 ...</td>\n",
       "    </tr>\n",
       "    <tr>\n",
       "      <th>1</th>\n",
       "      <td>8143a47a-10d7-458e-8cdc-e59c3964b58d</td>\n",
       "      <td>3602102099</td>\n",
       "      <td>96cc8b4f-01cf-4089-aa13-a8b43d8e1837</td>\n",
       "      <td>Minor Civil Divsion - 2018</td>\n",
       "      <td>US Census Bureau</td>\n",
       "      <td>5</td>\n",
       "      <td>E4</td>\n",
       "      <td>2019-02-04T00:00:00</td>\n",
       "      <td>61346</td>\n",
       "      <td>New York</td>\n",
       "      <td>02099</td>\n",
       "      <td>Ancram</td>\n",
       "      <td>110.680764</td>\n",
       "      <td>978679</td>\n",
       "      <td>0.480054</td>\n",
       "      <td>0.012034</td>\n",
       "      <td>MULTIPOLYGON (((-73.65307 42.08809, -73.64334 ...</td>\n",
       "    </tr>\n",
       "    <tr>\n",
       "      <th>3</th>\n",
       "      <td>fa8ac20d-d4e1-4f14-8c02-bece735c03ae</td>\n",
       "      <td>3605581402</td>\n",
       "      <td>96cc8b4f-01cf-4089-aa13-a8b43d8e1837</td>\n",
       "      <td>Minor Civil Divsion - 2018</td>\n",
       "      <td>US Census Bureau</td>\n",
       "      <td>5</td>\n",
       "      <td>E4</td>\n",
       "      <td>2019-02-04T00:00:00</td>\n",
       "      <td>61346</td>\n",
       "      <td>New York</td>\n",
       "      <td>81402</td>\n",
       "      <td>Wheatland</td>\n",
       "      <td>79.440386</td>\n",
       "      <td>979633</td>\n",
       "      <td>0.480102</td>\n",
       "      <td>0.008771</td>\n",
       "      <td>MULTIPOLYGON (((-77.90975 42.99050, -77.90974 ...</td>\n",
       "    </tr>\n",
       "    <tr>\n",
       "      <th>4</th>\n",
       "      <td>6461cc68-fcab-4ee9-b0fd-641f3681b461</td>\n",
       "      <td>3611745645</td>\n",
       "      <td>96cc8b4f-01cf-4089-aa13-a8b43d8e1837</td>\n",
       "      <td>Minor Civil Divsion - 2018</td>\n",
       "      <td>US Census Bureau</td>\n",
       "      <td>5</td>\n",
       "      <td>E4</td>\n",
       "      <td>2019-02-04T00:00:00</td>\n",
       "      <td>61346</td>\n",
       "      <td>New York</td>\n",
       "      <td>45645</td>\n",
       "      <td>Marion</td>\n",
       "      <td>75.755946</td>\n",
       "      <td>979199</td>\n",
       "      <td>0.383390</td>\n",
       "      <td>0.008385</td>\n",
       "      <td>MULTIPOLYGON (((-77.25222 43.12458, -77.25211 ...</td>\n",
       "    </tr>\n",
       "    <tr>\n",
       "      <th>5</th>\n",
       "      <td>ef99979c-d8a4-4d4e-abf1-976029a09543</td>\n",
       "      <td>3602701693</td>\n",
       "      <td>96cc8b4f-01cf-4089-aa13-a8b43d8e1837</td>\n",
       "      <td>Minor Civil Divsion - 2018</td>\n",
       "      <td>US Census Bureau</td>\n",
       "      <td>5</td>\n",
       "      <td>E4</td>\n",
       "      <td>2019-02-04T00:00:00</td>\n",
       "      <td>61346</td>\n",
       "      <td>New York</td>\n",
       "      <td>01693</td>\n",
       "      <td>Amenia</td>\n",
       "      <td>113.157727</td>\n",
       "      <td>978674</td>\n",
       "      <td>0.454551</td>\n",
       "      <td>0.012263</td>\n",
       "      <td>MULTIPOLYGON (((-73.61405 41.88822, -73.60102 ...</td>\n",
       "    </tr>\n",
       "    <tr>\n",
       "      <th>6</th>\n",
       "      <td>7adc88f9-2d68-4a64-a9d8-5248833b9d23</td>\n",
       "      <td>3602705452</td>\n",
       "      <td>96cc8b4f-01cf-4089-aa13-a8b43d8e1837</td>\n",
       "      <td>Minor Civil Divsion - 2018</td>\n",
       "      <td>US Census Bureau</td>\n",
       "      <td>5</td>\n",
       "      <td>E4</td>\n",
       "      <td>2019-02-04T00:00:00</td>\n",
       "      <td>61346</td>\n",
       "      <td>New York</td>\n",
       "      <td>05452</td>\n",
       "      <td>Beekman</td>\n",
       "      <td>79.517563</td>\n",
       "      <td>978718</td>\n",
       "      <td>0.419661</td>\n",
       "      <td>0.008588</td>\n",
       "      <td>MULTIPOLYGON (((-73.76518 41.62638, -73.76337 ...</td>\n",
       "    </tr>\n",
       "    <tr>\n",
       "      <th>14</th>\n",
       "      <td>73260e99-0c91-4d0c-981a-9188c8e731be</td>\n",
       "      <td>3602720819</td>\n",
       "      <td>96cc8b4f-01cf-4089-aa13-a8b43d8e1837</td>\n",
       "      <td>Minor Civil Divsion - 2018</td>\n",
       "      <td>US Census Bureau</td>\n",
       "      <td>5</td>\n",
       "      <td>E4</td>\n",
       "      <td>2019-02-04T00:00:00</td>\n",
       "      <td>61346</td>\n",
       "      <td>New York</td>\n",
       "      <td>20819</td>\n",
       "      <td>Dover</td>\n",
       "      <td>145.900023</td>\n",
       "      <td>978906</td>\n",
       "      <td>0.500141</td>\n",
       "      <td>0.015777</td>\n",
       "      <td>MULTIPOLYGON (((-73.63604 41.70459, -73.63604 ...</td>\n",
       "    </tr>\n",
       "  </tbody>\n",
       "</table>\n",
       "</div>"
      ],
      "text/plain": [
       "                    Permanent_Identifier Source_FeatureID  \\\n",
       "0   9bd8f5c2-3078-4dfd-b91e-a05b308e77bf       3604342752   \n",
       "1   8143a47a-10d7-458e-8cdc-e59c3964b58d       3602102099   \n",
       "3   fa8ac20d-d4e1-4f14-8c02-bece735c03ae       3605581402   \n",
       "4   6461cc68-fcab-4ee9-b0fd-641f3681b461       3611745645   \n",
       "5   ef99979c-d8a4-4d4e-abf1-976029a09543       3602701693   \n",
       "6   7adc88f9-2d68-4a64-a9d8-5248833b9d23       3602705452   \n",
       "14  73260e99-0c91-4d0c-981a-9188c8e731be       3602720819   \n",
       "\n",
       "                        Source_DatasetID             Source_DataDesc  \\\n",
       "0   96cc8b4f-01cf-4089-aa13-a8b43d8e1837  Minor Civil Divsion - 2018   \n",
       "1   96cc8b4f-01cf-4089-aa13-a8b43d8e1837  Minor Civil Divsion - 2018   \n",
       "3   96cc8b4f-01cf-4089-aa13-a8b43d8e1837  Minor Civil Divsion - 2018   \n",
       "4   96cc8b4f-01cf-4089-aa13-a8b43d8e1837  Minor Civil Divsion - 2018   \n",
       "5   96cc8b4f-01cf-4089-aa13-a8b43d8e1837  Minor Civil Divsion - 2018   \n",
       "6   96cc8b4f-01cf-4089-aa13-a8b43d8e1837  Minor Civil Divsion - 2018   \n",
       "14  96cc8b4f-01cf-4089-aa13-a8b43d8e1837  Minor Civil Divsion - 2018   \n",
       "\n",
       "   Source_Originator  Data_Security Distribution_Policy             LoadDate  \\\n",
       "0   US Census Bureau              5                  E4  2019-02-04T00:00:00   \n",
       "1   US Census Bureau              5                  E4  2019-02-04T00:00:00   \n",
       "3   US Census Bureau              5                  E4  2019-02-04T00:00:00   \n",
       "4   US Census Bureau              5                  E4  2019-02-04T00:00:00   \n",
       "5   US Census Bureau              5                  E4  2019-02-04T00:00:00   \n",
       "6   US Census Bureau              5                  E4  2019-02-04T00:00:00   \n",
       "14  US Census Bureau              5                  E4  2019-02-04T00:00:00   \n",
       "\n",
       "    FCode State_Name MinorCivilDivision_FIPSCode MinorCivilDivision_Name  \\\n",
       "0   61346   New York                       42752            Little Falls   \n",
       "1   61346   New York                       02099                  Ancram   \n",
       "3   61346   New York                       81402               Wheatland   \n",
       "4   61346   New York                       45645                  Marion   \n",
       "5   61346   New York                       01693                  Amenia   \n",
       "6   61346   New York                       05452                 Beekman   \n",
       "14  61346   New York                       20819                   Dover   \n",
       "\n",
       "      AreaSqKM GNIS_ID  Shape_Length  Shape_Area  \\\n",
       "0    58.282337  979158      0.432772    0.006436   \n",
       "1   110.680764  978679      0.480054    0.012034   \n",
       "3    79.440386  979633      0.480102    0.008771   \n",
       "4    75.755946  979199      0.383390    0.008385   \n",
       "5   113.157727  978674      0.454551    0.012263   \n",
       "6    79.517563  978718      0.419661    0.008588   \n",
       "14  145.900023  978906      0.500141    0.015777   \n",
       "\n",
       "                                             geometry  \n",
       "0   MULTIPOLYGON (((-74.92909 43.08087, -74.92191 ...  \n",
       "1   MULTIPOLYGON (((-73.65307 42.08809, -73.64334 ...  \n",
       "3   MULTIPOLYGON (((-77.90975 42.99050, -77.90974 ...  \n",
       "4   MULTIPOLYGON (((-77.25222 43.12458, -77.25211 ...  \n",
       "5   MULTIPOLYGON (((-73.61405 41.88822, -73.60102 ...  \n",
       "6   MULTIPOLYGON (((-73.76518 41.62638, -73.76337 ...  \n",
       "14  MULTIPOLYGON (((-73.63604 41.70459, -73.63604 ...  "
      ]
     },
     "execution_count": 30,
     "metadata": {},
     "output_type": "execute_result"
    }
   ],
   "source": [
    "minor = dfDict['GU_MinorCivilDivision'].loc[minor['State_Name'] == 'New York']\n",
    "minor.head(n=7)"
   ]
  },
  {
   "cell_type": "markdown",
   "metadata": {},
   "source": [
    "### Map"
   ]
  },
  {
   "cell_type": "code",
   "execution_count": 31,
   "metadata": {},
   "outputs": [
    {
     "data": {
      "text/plain": [
       "Text(0.5, 1.0, 'Minor Civil Division in the State of New York')"
      ]
     },
     "execution_count": 31,
     "metadata": {},
     "output_type": "execute_result"
    },
    {
     "data": {
      "image/png": "[encoded data removed]",
      "text/plain": [
       "<Figure size 864x1440 with 1 Axes>"
      ]
     },
     "metadata": {
      "needs_background": "light"
     },
     "output_type": "display_data"
    }
   ],
   "source": [
    "minor.plot(column='GNIS_ID',figsize=(12, 20))\n",
    "plt.title('Minor Civil Division in the State of New York')"
   ]
  },
  {
   "cell_type": "markdown",
   "metadata": {},
   "source": [
    "## Jurisdictional"
   ]
  },
  {
   "cell_type": "markdown",
   "metadata": {},
   "source": [
    "### Data"
   ]
  },
  {
   "cell_type": "code",
   "execution_count": 18,
   "metadata": {},
   "outputs": [
    {
     "name": "stdout",
     "output_type": "stream",
     "text": [
      "(27, 21)\n"
     ]
    },
    {
     "data": {
      "text/html": [
       "<div>\n",
       "<style scoped>\n",
       "    .dataframe tbody tr th:only-of-type {\n",
       "        vertical-align: middle;\n",
       "    }\n",
       "\n",
       "    .dataframe tbody tr th {\n",
       "        vertical-align: top;\n",
       "    }\n",
       "\n",
       "    .dataframe thead th {\n",
       "        text-align: right;\n",
       "    }\n",
       "</style>\n",
       "<table border=\"1\" class=\"dataframe\">\n",
       "  <thead>\n",
       "    <tr style=\"text-align: right;\">\n",
       "      <th></th>\n",
       "      <th>Permanent_Identifier</th>\n",
       "      <th>Source_FeatureID</th>\n",
       "      <th>Source_DatasetID</th>\n",
       "      <th>Source_DataDesc</th>\n",
       "      <th>Source_Originator</th>\n",
       "      <th>Data_Security</th>\n",
       "      <th>Distribution_Policy</th>\n",
       "      <th>LoadDate</th>\n",
       "      <th>GNIS_ID</th>\n",
       "      <th>Name</th>\n",
       "      <th>...</th>\n",
       "      <th>FType</th>\n",
       "      <th>FCode</th>\n",
       "      <th>Designation</th>\n",
       "      <th>State_FIPSCode</th>\n",
       "      <th>State_Name</th>\n",
       "      <th>AdminType</th>\n",
       "      <th>OwnerOrManagingAgency</th>\n",
       "      <th>Shape_Length</th>\n",
       "      <th>Shape_Area</th>\n",
       "      <th>geometry</th>\n",
       "    </tr>\n",
       "  </thead>\n",
       "  <tbody>\n",
       "    <tr>\n",
       "      <th>16</th>\n",
       "      <td>73ea130b-6413-4376-a465-7613746223f7</td>\n",
       "      <td>3601</td>\n",
       "      <td>db70ca3e-e994-49f0-aa8c-8f7e1f82b738</td>\n",
       "      <td>Congressional Districts, 116th Congress, 2018</td>\n",
       "      <td>U.S. Department of Commerce, U.S. Census Burea...</td>\n",
       "      <td>5</td>\n",
       "      <td>E4</td>\n",
       "      <td>2018-10-30T00:00:00</td>\n",
       "      <td>None</td>\n",
       "      <td>Congressional District 1</td>\n",
       "      <td>...</td>\n",
       "      <td>628</td>\n",
       "      <td>62800</td>\n",
       "      <td>116</td>\n",
       "      <td>36</td>\n",
       "      <td>New York</td>\n",
       "      <td>1</td>\n",
       "      <td>None</td>\n",
       "      <td>4.114253</td>\n",
       "      <td>0.539625</td>\n",
       "      <td>MULTIPOLYGON (((-73.29646 40.93480, -73.29655 ...</td>\n",
       "    </tr>\n",
       "    <tr>\n",
       "      <th>17</th>\n",
       "      <td>2a1a0ffe-8b12-4379-b3b4-9c47a1553e88</td>\n",
       "      <td>3607</td>\n",
       "      <td>db70ca3e-e994-49f0-aa8c-8f7e1f82b738</td>\n",
       "      <td>Congressional Districts, 116th Congress, 2018</td>\n",
       "      <td>U.S. Department of Commerce, U.S. Census Burea...</td>\n",
       "      <td>5</td>\n",
       "      <td>E4</td>\n",
       "      <td>2018-10-30T00:00:00</td>\n",
       "      <td>None</td>\n",
       "      <td>Congressional District 7</td>\n",
       "      <td>...</td>\n",
       "      <td>628</td>\n",
       "      <td>62800</td>\n",
       "      <td>116</td>\n",
       "      <td>36</td>\n",
       "      <td>New York</td>\n",
       "      <td>1</td>\n",
       "      <td>None</td>\n",
       "      <td>0.813456</td>\n",
       "      <td>0.004739</td>\n",
       "      <td>MULTIPOLYGON (((-74.02512 40.64121, -74.02455 ...</td>\n",
       "    </tr>\n",
       "    <tr>\n",
       "      <th>18</th>\n",
       "      <td>808b1489-73d1-455f-83a6-580828f95cd7</td>\n",
       "      <td>3627</td>\n",
       "      <td>db70ca3e-e994-49f0-aa8c-8f7e1f82b738</td>\n",
       "      <td>Congressional Districts, 116th Congress, 2018</td>\n",
       "      <td>U.S. Department of Commerce, U.S. Census Burea...</td>\n",
       "      <td>5</td>\n",
       "      <td>E4</td>\n",
       "      <td>2018-10-30T00:00:00</td>\n",
       "      <td>None</td>\n",
       "      <td>Congressional District 27</td>\n",
       "      <td>...</td>\n",
       "      <td>628</td>\n",
       "      <td>62800</td>\n",
       "      <td>116</td>\n",
       "      <td>36</td>\n",
       "      <td>New York</td>\n",
       "      <td>1</td>\n",
       "      <td>None</td>\n",
       "      <td>8.000711</td>\n",
       "      <td>1.491833</td>\n",
       "      <td>MULTIPOLYGON (((-79.31214 42.68681, -79.24977 ...</td>\n",
       "    </tr>\n",
       "    <tr>\n",
       "      <th>19</th>\n",
       "      <td>10c7b810-38f3-4ee8-9b08-b7f5163bcda0</td>\n",
       "      <td>3617</td>\n",
       "      <td>db70ca3e-e994-49f0-aa8c-8f7e1f82b738</td>\n",
       "      <td>Congressional Districts, 116th Congress, 2018</td>\n",
       "      <td>U.S. Department of Commerce, U.S. Census Burea...</td>\n",
       "      <td>5</td>\n",
       "      <td>E4</td>\n",
       "      <td>2018-10-30T00:00:00</td>\n",
       "      <td>None</td>\n",
       "      <td>Congressional District 17</td>\n",
       "      <td>...</td>\n",
       "      <td>628</td>\n",
       "      <td>62800</td>\n",
       "      <td>116</td>\n",
       "      <td>36</td>\n",
       "      <td>New York</td>\n",
       "      <td>1</td>\n",
       "      <td>None</td>\n",
       "      <td>1.840108</td>\n",
       "      <td>0.122365</td>\n",
       "      <td>MULTIPOLYGON (((-74.23429 41.14301, -74.23179 ...</td>\n",
       "    </tr>\n",
       "    <tr>\n",
       "      <th>20</th>\n",
       "      <td>8be054d1-13fc-4d21-a58c-0a02a44b1d70</td>\n",
       "      <td>3614</td>\n",
       "      <td>db70ca3e-e994-49f0-aa8c-8f7e1f82b738</td>\n",
       "      <td>Congressional Districts, 116th Congress, 2018</td>\n",
       "      <td>U.S. Department of Commerce, U.S. Census Burea...</td>\n",
       "      <td>5</td>\n",
       "      <td>E4</td>\n",
       "      <td>2018-10-30T00:00:00</td>\n",
       "      <td>None</td>\n",
       "      <td>Congressional District 14</td>\n",
       "      <td>...</td>\n",
       "      <td>628</td>\n",
       "      <td>62800</td>\n",
       "      <td>116</td>\n",
       "      <td>36</td>\n",
       "      <td>New York</td>\n",
       "      <td>1</td>\n",
       "      <td>None</td>\n",
       "      <td>0.826907</td>\n",
       "      <td>0.012059</td>\n",
       "      <td>MULTIPOLYGON (((-73.93023 40.74245, -73.92986 ...</td>\n",
       "    </tr>\n",
       "  </tbody>\n",
       "</table>\n",
       "<p>5 rows × 21 columns</p>\n",
       "</div>"
      ],
      "text/plain": [
       "                    Permanent_Identifier Source_FeatureID  \\\n",
       "16  73ea130b-6413-4376-a465-7613746223f7             3601   \n",
       "17  2a1a0ffe-8b12-4379-b3b4-9c47a1553e88             3607   \n",
       "18  808b1489-73d1-455f-83a6-580828f95cd7             3627   \n",
       "19  10c7b810-38f3-4ee8-9b08-b7f5163bcda0             3617   \n",
       "20  8be054d1-13fc-4d21-a58c-0a02a44b1d70             3614   \n",
       "\n",
       "                        Source_DatasetID  \\\n",
       "16  db70ca3e-e994-49f0-aa8c-8f7e1f82b738   \n",
       "17  db70ca3e-e994-49f0-aa8c-8f7e1f82b738   \n",
       "18  db70ca3e-e994-49f0-aa8c-8f7e1f82b738   \n",
       "19  db70ca3e-e994-49f0-aa8c-8f7e1f82b738   \n",
       "20  db70ca3e-e994-49f0-aa8c-8f7e1f82b738   \n",
       "\n",
       "                                  Source_DataDesc  \\\n",
       "16  Congressional Districts, 116th Congress, 2018   \n",
       "17  Congressional Districts, 116th Congress, 2018   \n",
       "18  Congressional Districts, 116th Congress, 2018   \n",
       "19  Congressional Districts, 116th Congress, 2018   \n",
       "20  Congressional Districts, 116th Congress, 2018   \n",
       "\n",
       "                                    Source_Originator  Data_Security  \\\n",
       "16  U.S. Department of Commerce, U.S. Census Burea...              5   \n",
       "17  U.S. Department of Commerce, U.S. Census Burea...              5   \n",
       "18  U.S. Department of Commerce, U.S. Census Burea...              5   \n",
       "19  U.S. Department of Commerce, U.S. Census Burea...              5   \n",
       "20  U.S. Department of Commerce, U.S. Census Burea...              5   \n",
       "\n",
       "   Distribution_Policy             LoadDate GNIS_ID  \\\n",
       "16                  E4  2018-10-30T00:00:00    None   \n",
       "17                  E4  2018-10-30T00:00:00    None   \n",
       "18                  E4  2018-10-30T00:00:00    None   \n",
       "19                  E4  2018-10-30T00:00:00    None   \n",
       "20                  E4  2018-10-30T00:00:00    None   \n",
       "\n",
       "                         Name  ...  FType  FCode  Designation State_FIPSCode  \\\n",
       "16   Congressional District 1  ...    628  62800          116             36   \n",
       "17   Congressional District 7  ...    628  62800          116             36   \n",
       "18  Congressional District 27  ...    628  62800          116             36   \n",
       "19  Congressional District 17  ...    628  62800          116             36   \n",
       "20  Congressional District 14  ...    628  62800          116             36   \n",
       "\n",
       "   State_Name AdminType  OwnerOrManagingAgency Shape_Length  Shape_Area  \\\n",
       "16   New York         1                   None     4.114253    0.539625   \n",
       "17   New York         1                   None     0.813456    0.004739   \n",
       "18   New York         1                   None     8.000711    1.491833   \n",
       "19   New York         1                   None     1.840108    0.122365   \n",
       "20   New York         1                   None     0.826907    0.012059   \n",
       "\n",
       "                                             geometry  \n",
       "16  MULTIPOLYGON (((-73.29646 40.93480, -73.29655 ...  \n",
       "17  MULTIPOLYGON (((-74.02512 40.64121, -74.02455 ...  \n",
       "18  MULTIPOLYGON (((-79.31214 42.68681, -79.24977 ...  \n",
       "19  MULTIPOLYGON (((-74.23429 41.14301, -74.23179 ...  \n",
       "20  MULTIPOLYGON (((-73.93023 40.74245, -73.92986 ...  \n",
       "\n",
       "[5 rows x 21 columns]"
      ]
     },
     "execution_count": 18,
     "metadata": {},
     "output_type": "execute_result"
    }
   ],
   "source": [
    "juris = dfDict['GU_Jurisdictional'].loc[juris['State_Name'] == 'New York']\n",
    "print(juris.shape)\n",
    "juris.head()"
   ]
  },
  {
   "cell_type": "markdown",
   "metadata": {},
   "source": [
    "### Map"
   ]
  },
  {
   "cell_type": "code",
   "execution_count": 27,
   "metadata": {},
   "outputs": [
    {
     "data": {
      "text/plain": [
       "<matplotlib.axes._subplots.AxesSubplot at 0x7fdf842c07f0>"
      ]
     },
     "execution_count": 27,
     "metadata": {},
     "output_type": "execute_result"
    },
    {
     "data": {
      "image/png": "[encoded data removed]",
      "text/plain": [
       "<Figure size 1440x1440 with 1 Axes>"
      ]
     },
     "metadata": {
      "needs_background": "light"
     },
     "output_type": "display_data"
    }
   ],
   "source": [
    "juris.plot(cmap='Dark2',figsize=(20,20))"
   ]
  },
  {
   "cell_type": "markdown",
   "metadata": {},
   "source": [
    "## All"
   ]
  },
  {
   "cell_type": "code",
   "execution_count": null,
   "metadata": {},
   "outputs": [],
   "source": [
    "reserves = dfDict['GU_Reserve']\n",
    "print(reserves.shape)\n",
    "reserves.head(n=64)"
   ]
  },
  {
   "cell_type": "code",
   "execution_count": null,
   "metadata": {},
   "outputs": [],
   "source": [
    "for df in dfDict:\n",
    "    print(df)\n",
    "    if len(df) == 0:\n",
    "        continue\n",
    "    if df == 'GU_Reserve' or df == 'GU_NativeAmericanArea' :\n",
    "        dfDict[df].plot(figsize=(12, 20))\n",
    "    else:\n",
    "        dfDict[df].loc[dfDict[df]['State_Name'] == 'New York'].plot(figsize=(12, 20))\n",
    "        plt.title('{} in the State of New York'.format(df))\n",
    "        \n",
    "    "
   ]
  },
  {
   "cell_type": "markdown",
   "metadata": {},
   "source": [
    "## Βιλιογραφία\n",
    "\n",
    "<div class=\"cite2c-biblio\"></div>"
   ]
  }
 ],
 "metadata": {
  "cite2c": {
   "citations": {
    "7747773/AUZNIT2Q": {
     "URL": "https://zenodo.org/record/2585849",
     "abstract": "Small bug-fix release for compatibility with the latest Fiona and PySAL releases: Compatibility with Fiona 1.8: fix deprecation warning (#854 and #916). Compatibility with PySAL 2.0: switched to mapclassify instead of PySAL as dependency for choropleth mapping with the scheme keyword (#872). Fix for new overlay implementation in case the intersection is empty (#800). Acknowledgments A total of 7 people contributed to this release. People with a \"+\" by their names contributed a patch for the first time. Filipe Joris Van den Bossche Kris Vanhoof + Martin Fleischmann + Simon Andersson + TimoRoth + Ömer Özak",
     "accessed": {
      "day": 10,
      "month": 4,
      "year": 2020
     },
     "author": [
      {
       "family": "Kelsey Jordahl",
       "given": ""
      },
      {
       "family": "Joris Van den Bossche",
       "given": ""
      },
      {
       "family": "Jacob Wasserman",
       "given": ""
      },
      {
       "family": "James McBride",
       "given": ""
      },
      {
       "family": "Jeffrey Gerard",
       "given": ""
      },
      {
       "family": "Jeff Tratner",
       "given": ""
      },
      {
       "family": "Matthew Perry",
       "given": ""
      },
      {
       "family": "Carson Farmer",
       "given": ""
      },
      {
       "family": "Micah Cochran",
       "given": ""
      },
      {
       "family": "Sean Gillies",
       "given": ""
      },
      {
       "family": "Matt Bartos",
       "given": ""
      },
      {
       "family": "Lucas Culbertson",
       "given": ""
      },
      {
       "family": "Nick Eubank",
       "given": ""
      },
      {
       "family": "maxalbert",
       "given": ""
      },
      {
       "family": "Martin Fleischmann",
       "given": ""
      },
      {
       "family": "Geir Arne Hjelle",
       "given": ""
      },
      {
       "family": "Dani Arribas-Bel",
       "given": ""
      },
      {
       "family": "Christopher Ren",
       "given": ""
      },
      {
       "family": "Sergio Rey",
       "given": ""
      },
      {
       "family": "Martin Journois",
       "given": ""
      },
      {
       "family": "Levi John Wolf",
       "given": ""
      },
      {
       "family": "Aleksey Bilogur",
       "given": ""
      },
      {
       "family": "Nick Grue",
       "given": ""
      },
      {
       "family": "Joshua Wilson",
       "given": ""
      },
      {
       "family": "YuichiNotoya",
       "given": ""
      },
      {
       "family": "Leah Wasser",
       "given": ""
      },
      {
       "family": "Filipe",
       "given": ""
      },
      {
       "family": "Chris Holdgraf",
       "given": ""
      },
      {
       "family": "Adam Greenhall",
       "given": ""
      },
      {
       "family": "John Trengrove",
       "given": ""
      }
     ],
     "id": "7747773/AUZNIT2Q",
     "issued": {
      "day": 6,
      "month": 3,
      "year": 2019
     },
     "note": "DOI: 10.5281/zenodo.2585849",
     "publisher": "Zenodo",
     "shortTitle": "geopandas/geopandas",
     "title": "geopandas/geopandas: v0.4.1",
     "title-short": "geopandas/geopandas",
     "type": "book"
    },
    "7747773/GSWXXBJF": {
     "URL": "https://www.sciencebase.gov/catalog/item/4f70b219e4b058caae3f8e19",
     "abstract": "The USGS Governmental Unit Boundaries dataset from The National Map (TNM) represents major civil areas for the Nation, including States or Territories, counties (or equivalents), Federal and Native American areas, congressional districts, minor civil divisions, incorporated places (such as cities and towns), and unincorporated places. Boundaries data are useful for understanding the extent of jurisdictional or administrative areas for a wide range of applications, including mapping or managing resources, and responding to natural disasters. Boundaries data also include extents of forest, grassland, park, wilderness, wildlife, and other reserve areas useful for recreational activities, such as hiking and backpacking. Boundaries data are acquired from a variety of government sources. The data represents the source data with minimal editing or review by USGS. Please refer to the feature-level metadata for information on the data source. The National Map boundaries data is commonly combined with other data themes, such as elevation, hydrography, structures, and transportation, to produce general reference base maps. The National Map viewer allows free downloads of public domain boundaries data in either Esri File Geodatabase or Shapefile formats. For additional information on the boundaries data model, go to http://nationalmap.gov/boundaries.html.",
     "accessed": {
      "day": 10,
      "month": 4,
      "year": 2020
     },
     "id": "7747773/GSWXXBJF",
     "title": "National Boundary Dataset (NBD) - ScienceBase-Catalog",
     "type": "webpage"
    },
    "7747773/HKUUMBMQ": {
     "abstract": "In this paper we present the tool GeoTriples that allows the transformation of Earth Observation data and geospatial data into RDF graphs, by using and extending the R2RML mapping language to be able to deal with the specificities of geospatial data. GeoTriples is a semi-automated tool that transforms geospatial information into RDF following the state of the art vocabularies like GeoSPARQL and stSPARQL, but at the same time it is not tightly coupled to a specific vocabulary.",
     "accessed": {
      "day": 10,
      "month": 4,
      "year": 2020
     },
     "author": [
      {
       "family": "Kyzirakos",
       "given": "Kostis"
      },
      {
       "family": "Vlachopoulos",
       "given": "Ioannis"
      },
      {
       "family": "Savva",
       "given": "Dimitrianos"
      },
      {
       "family": "Manegold",
       "given": "Stefan"
      },
      {
       "family": "Koubarakis",
       "given": "Manolis"
      }
     ],
     "collection-title": "ISWC-PD'14",
     "container-title": "Proceedings of the 2014 International Conference on Posters & Demonstrations Track - Volume 1272",
     "event-place": "Riva del Garda, Italy",
     "id": "7747773/HKUUMBMQ",
     "issued": {
      "day": 21,
      "month": 10,
      "year": 2014
     },
     "page": "393–396",
     "page-first": "393",
     "publisher": "CEUR-WS.org",
     "publisher-place": "Riva del Garda, Italy",
     "shortTitle": "GeoTriples",
     "title": "GeoTriples: a tool for publishing geospatial data as RDF graphs using R2RML mappings",
     "title-short": "GeoTriples",
     "type": "paper-conference"
    },
    "7747773/TE5IM5WW": {
     "author": [
      {
       "family": "Gillies",
       "given": "Sean"
      }
     ],
     "collection-title": "Fiona is OGR's neat, nimble, no-nonsense API",
     "id": "7747773/TE5IM5WW",
     "issued": {
      "year": 2011
     },
     "title": "Fiona",
     "type": "book"
    }
   }
  },
  "kernelspec": {
   "display_name": "Python 3",
   "language": "python",
   "name": "python3"
  },
  "language_info": {
   "codemirror_mode": {
    "name": "ipython",
    "version": 3
   },
   "file_extension": ".py",
   "mimetype": "text/x-python",
   "name": "python",
   "nbconvert_exporter": "python",
   "pygments_lexer": "ipython3",
   "version": "3.7.2"
  }
 },
 "nbformat": 4,
 "nbformat_minor": 4
}
