{
 "cells": [
  {
   "cell_type": "markdown",
   "metadata": {},
   "source": [
    "# National Boundaries Dataset\n",
    "> Εξετάζουμε την μορφή του National Boundaries Dataset και την μετατροπή του σε μορφη RDF.\n",
    "\n",
    "Το National Boundary Database(2014)<cite data-cite=\"7747773/GSWXXBJF\"></cite> είναι ενα dataset που περιγράφει τις διοικητικές μονάδες των Ηνωμένων Πολιτειών της Αμερικής . Για την μετατροπή των δεδομένων σε RDF data και την κατασκεύη του γράφου χρησιμοποιούμε το εργαλείο GeoTriples<cite data-cite=\"7747773/HKUUMBMQ\"></cite> .\n",
    "\n",
    "\n",
    "Ας πάρουμε για παράδειγμα την πολιτεία της **Νέας Υόρκης** . Στο φάκελο data έχουμε το αρχείο gdb , που περιλαμβάνει η NBD για την πολιτεια .Αρχικα , θα κάνουμε χρήση των βιβλιοθηκών fiona <cite data-cite=\"7747773/TE5IM5WW\"></cite> και geopandas <cite data-cite=\"7747773/AUZNIT2Q\"></cite> για την άναγνωση των δεδομένων του gdb.\n"
   ]
  },
  {
   "cell_type": "code",
   "execution_count": 66,
   "metadata": {},
   "outputs": [],
   "source": [
    "%matplotlib inline"
   ]
  },
  {
   "cell_type": "code",
   "execution_count": 67,
   "metadata": {},
   "outputs": [],
   "source": [
    "import fiona \n",
    "import geopandas as gpd\n",
    "import pandas as pd\n",
    "import matplotlib.pyplot as plt\n",
    "import seaborn"
   ]
  },
  {
   "cell_type": "markdown",
   "metadata": {},
   "source": [
    "## Νεα Υορκη\n",
    "<img src=\"images/1280px-Flag_of_New_York.svg.png\" alt=\"Flag\" width=\"300\"  />\n",
    "<img src=\"images/New_York_in_United_States.svg\" alt=\"State\" width=\"300\" />\n",
    "Ξεκινάμε διαβάζοντας το αρχείο και εκτύπωνοντας τα δίαφορα layers."
   ]
  },
  {
   "cell_type": "code",
   "execution_count": 68,
   "metadata": {},
   "outputs": [
    {
     "name": "stdout",
     "output_type": "stream",
     "text": [
      "['GU_CountyOrEquivalent', 'GU_IncorporatedPlace', 'GU_StateOrTerritory', 'GU_MinorCivilDivision', 'GU_Reserve', 'GU_NativeAmericanArea', 'GU_Jurisdictional', 'GU_UnincorporatedPlace', 'GU_PLSSFirstDivision', 'GU_PLSSSpecialSurvey', 'GU_PLSSTownship', 'BPFeatureToMetadata', 'Meta_DatasetDetail', 'Meta_ProcessDetail']\n",
      "14\n"
     ]
    }
   ],
   "source": [
    "filepath = \"./data/GOVTUNIT_New_York_State_GDB.gdb\"\n",
    "\n",
    "layers = fiona.listlayers(filepath)\n",
    "print(layers)\n",
    "print(len(layers))"
   ]
  },
  {
   "cell_type": "markdown",
   "metadata": {},
   "source": [
    "Το αρχείο περιέχει 14 συνολικά layers . Απο αυτά τα 11 παρακάτω αντιστοιχούν σε γεωγραφικά δεδομένα , ενω τα υπόλοιπα περιέχουν πληροφορίες για τα μεταδεδομένα ."
   ]
  },
  {
   "cell_type": "code",
   "execution_count": 69,
   "metadata": {},
   "outputs": [],
   "source": [
    "gulayers = ['GU_CountyOrEquivalent', 'GU_IncorporatedPlace', 'GU_StateOrTerritory', \n",
    "            'GU_MinorCivilDivision', 'GU_Reserve', 'GU_NativeAmericanArea', \n",
    "            'GU_Jurisdictional', 'GU_UnincorporatedPlace', 'GU_PLSSFirstDivision', \n",
    "            'GU_PLSSSpecialSurvey', 'GU_PLSSTownship']"
   ]
  },
  {
   "cell_type": "markdown",
   "metadata": {},
   "source": [
    "Εξετάζουμε την μορφη του κάθε layer."
   ]
  },
  {
   "cell_type": "markdown",
   "metadata": {},
   "source": [
    "Αρχικα , παρατηρούμε οτι το πιο πολυπληθές dataset είναι το GU_MinorCivilDivision με 1170 εγγραφές, ένω το λιγοτερο πολυπληθες - μεγαλυτερο του μηδεν - ειναι το StateOrTerritory με 7. "
   ]
  },
  {
   "cell_type": "code",
   "execution_count": 70,
   "metadata": {},
   "outputs": [
    {
     "data": {
      "text/html": [
       "<div>\n",
       "<style scoped>\n",
       "    .dataframe tbody tr th:only-of-type {\n",
       "        vertical-align: middle;\n",
       "    }\n",
       "\n",
       "    .dataframe tbody tr th {\n",
       "        vertical-align: top;\n",
       "    }\n",
       "\n",
       "    .dataframe thead th {\n",
       "        text-align: right;\n",
       "    }\n",
       "</style>\n",
       "<table border=\"1\" class=\"dataframe\">\n",
       "  <thead>\n",
       "    <tr style=\"text-align: right;\">\n",
       "      <th></th>\n",
       "      <th>Layer Name</th>\n",
       "      <th>Entries</th>\n",
       "      <th>Features</th>\n",
       "    </tr>\n",
       "  </thead>\n",
       "  <tbody>\n",
       "    <tr>\n",
       "      <th>8</th>\n",
       "      <td>GU_PLSSFirstDivision</td>\n",
       "      <td>0</td>\n",
       "      <td>21</td>\n",
       "    </tr>\n",
       "    <tr>\n",
       "      <th>9</th>\n",
       "      <td>GU_PLSSSpecialSurvey</td>\n",
       "      <td>0</td>\n",
       "      <td>20</td>\n",
       "    </tr>\n",
       "    <tr>\n",
       "      <th>10</th>\n",
       "      <td>GU_PLSSTownship</td>\n",
       "      <td>0</td>\n",
       "      <td>21</td>\n",
       "    </tr>\n",
       "    <tr>\n",
       "      <th>2</th>\n",
       "      <td>GU_StateOrTerritory</td>\n",
       "      <td>7</td>\n",
       "      <td>17</td>\n",
       "    </tr>\n",
       "    <tr>\n",
       "      <th>5</th>\n",
       "      <td>GU_NativeAmericanArea</td>\n",
       "      <td>13</td>\n",
       "      <td>18</td>\n",
       "    </tr>\n",
       "    <tr>\n",
       "      <th>12</th>\n",
       "      <td>Meta_DatasetDetail</td>\n",
       "      <td>17</td>\n",
       "      <td>25</td>\n",
       "    </tr>\n",
       "    <tr>\n",
       "      <th>13</th>\n",
       "      <td>Meta_ProcessDetail</td>\n",
       "      <td>17</td>\n",
       "      <td>15</td>\n",
       "    </tr>\n",
       "    <tr>\n",
       "      <th>6</th>\n",
       "      <td>GU_Jurisdictional</td>\n",
       "      <td>43</td>\n",
       "      <td>21</td>\n",
       "    </tr>\n",
       "    <tr>\n",
       "      <th>4</th>\n",
       "      <td>GU_Reserve</td>\n",
       "      <td>64</td>\n",
       "      <td>18</td>\n",
       "    </tr>\n",
       "    <tr>\n",
       "      <th>0</th>\n",
       "      <td>GU_CountyOrEquivalent</td>\n",
       "      <td>90</td>\n",
       "      <td>20</td>\n",
       "    </tr>\n",
       "    <tr>\n",
       "      <th>7</th>\n",
       "      <td>GU_UnincorporatedPlace</td>\n",
       "      <td>604</td>\n",
       "      <td>17</td>\n",
       "    </tr>\n",
       "    <tr>\n",
       "      <th>1</th>\n",
       "      <td>GU_IncorporatedPlace</td>\n",
       "      <td>632</td>\n",
       "      <td>18</td>\n",
       "    </tr>\n",
       "    <tr>\n",
       "      <th>3</th>\n",
       "      <td>GU_MinorCivilDivision</td>\n",
       "      <td>1170</td>\n",
       "      <td>17</td>\n",
       "    </tr>\n",
       "    <tr>\n",
       "      <th>11</th>\n",
       "      <td>BPFeatureToMetadata</td>\n",
       "      <td>2638</td>\n",
       "      <td>3</td>\n",
       "    </tr>\n",
       "  </tbody>\n",
       "</table>\n",
       "</div>"
      ],
      "text/plain": [
       "                Layer Name Entries Features\n",
       "8     GU_PLSSFirstDivision       0       21\n",
       "9     GU_PLSSSpecialSurvey       0       20\n",
       "10         GU_PLSSTownship       0       21\n",
       "2      GU_StateOrTerritory       7       17\n",
       "5    GU_NativeAmericanArea      13       18\n",
       "12      Meta_DatasetDetail      17       25\n",
       "13      Meta_ProcessDetail      17       15\n",
       "6        GU_Jurisdictional      43       21\n",
       "4               GU_Reserve      64       18\n",
       "0    GU_CountyOrEquivalent      90       20\n",
       "7   GU_UnincorporatedPlace     604       17\n",
       "1     GU_IncorporatedPlace     632       18\n",
       "3    GU_MinorCivilDivision    1170       17\n",
       "11     BPFeatureToMetadata    2638        3"
      ]
     },
     "execution_count": 70,
     "metadata": {},
     "output_type": "execute_result"
    }
   ],
   "source": [
    "shapesdf = pd.DataFrame(columns=['Layer Name','Entries','Features'])\n",
    "dfDict = {}\n",
    "for idx,layer in enumerate(layers):\n",
    "    gdf = gpd.read_file(filepath,layer=layer)\n",
    "    dfDict[layer] = gdf\n",
    "    shapesdf.loc[idx] = [layer,gdf.shape[0],gdf.shape[1]]\n",
    "shapesdf = shapesdf.sort_values('Entries')\n",
    "shapesdf.head(n=14)"
   ]
  },
  {
   "cell_type": "markdown",
   "metadata": {},
   "source": [
    "## State Or Territory\n"
   ]
  },
  {
   "cell_type": "markdown",
   "metadata": {},
   "source": [
    "Το Dataset απoτελείται απο 7 εγγραφές . Κάθε μια απο τις εγγράφες αντιστοιχεί σε μια συνορεύουσα πολιτεία .Παρατηρούμε πολλές στήλες που αντιστοιχούν σε χρήσιμες πληροφορίες για κάθε πολιτεία . \n",
    "1. Την πηγή του dataset \n",
    "2. Την Ημερομηνία δημιουργίας \n",
    "3. Ο αριθμός FIPS που είναι μοναδικός για κάθε πολιτεία \n",
    "4. Το όνομα της πολιτείας \n",
    "5. Τον πληθησμό (δεν είναι συμπληρωμένο) \n",
    "6. Το μέγεθος \n",
    "7. την γεωμετρική αναπαράσταση."
   ]
  },
  {
   "cell_type": "code",
   "execution_count": 71,
   "metadata": {},
   "outputs": [
    {
     "data": {
      "text/html": [
       "<div>\n",
       "<style scoped>\n",
       "    .dataframe tbody tr th:only-of-type {\n",
       "        vertical-align: middle;\n",
       "    }\n",
       "\n",
       "    .dataframe tbody tr th {\n",
       "        vertical-align: top;\n",
       "    }\n",
       "\n",
       "    .dataframe thead th {\n",
       "        text-align: right;\n",
       "    }\n",
       "</style>\n",
       "<table border=\"1\" class=\"dataframe\">\n",
       "  <thead>\n",
       "    <tr style=\"text-align: right;\">\n",
       "      <th></th>\n",
       "      <th>Permanent_Identifier</th>\n",
       "      <th>Source_FeatureID</th>\n",
       "      <th>Source_DatasetID</th>\n",
       "      <th>Source_DataDesc</th>\n",
       "      <th>Source_Originator</th>\n",
       "      <th>Data_Security</th>\n",
       "      <th>Distribution_Policy</th>\n",
       "      <th>LoadDate</th>\n",
       "      <th>FCode</th>\n",
       "      <th>State_FIPSCode</th>\n",
       "      <th>State_Name</th>\n",
       "      <th>Population2000</th>\n",
       "      <th>AreaSqKM</th>\n",
       "      <th>GNIS_ID</th>\n",
       "      <th>Shape_Length</th>\n",
       "      <th>Shape_Area</th>\n",
       "      <th>geometry</th>\n",
       "    </tr>\n",
       "  </thead>\n",
       "  <tbody>\n",
       "    <tr>\n",
       "      <th>0</th>\n",
       "      <td>0c35ddcb-9001-4c4f-a99e-dc165ac09a2e</td>\n",
       "      <td>36</td>\n",
       "      <td>fdb7e03d-12ca-49a4-bfe6-437ccdda7183</td>\n",
       "      <td>2018 TIGER/Line Shapefile, Current State and E...</td>\n",
       "      <td>U.S. Census Bureau</td>\n",
       "      <td>5</td>\n",
       "      <td>E4</td>\n",
       "      <td>2019-02-13T00:00:00</td>\n",
       "      <td>61100</td>\n",
       "      <td>36</td>\n",
       "      <td>New York</td>\n",
       "      <td>None</td>\n",
       "      <td>141296.128900</td>\n",
       "      <td>1779796</td>\n",
       "      <td>25.938952</td>\n",
       "      <td>15.580703</td>\n",
       "      <td>MULTIPOLYGON (((-79.31214 42.68681, -79.24977 ...</td>\n",
       "    </tr>\n",
       "    <tr>\n",
       "      <th>1</th>\n",
       "      <td>3f74edca-a184-4133-a3b2-ce01c2d8573d</td>\n",
       "      <td>25</td>\n",
       "      <td>fdb7e03d-12ca-49a4-bfe6-437ccdda7183</td>\n",
       "      <td>2018 TIGER/Line Shapefile, Current State and E...</td>\n",
       "      <td>U.S. Census Bureau</td>\n",
       "      <td>5</td>\n",
       "      <td>E4</td>\n",
       "      <td>2019-02-13T00:00:00</td>\n",
       "      <td>61100</td>\n",
       "      <td>25</td>\n",
       "      <td>Massachusetts</td>\n",
       "      <td>None</td>\n",
       "      <td>27335.048586</td>\n",
       "      <td>606926</td>\n",
       "      <td>12.000554</td>\n",
       "      <td>2.977855</td>\n",
       "      <td>MULTIPOLYGON (((-71.49826 42.01727, -71.49907 ...</td>\n",
       "    </tr>\n",
       "    <tr>\n",
       "      <th>2</th>\n",
       "      <td>5d5e9018-2522-4be4-a755-08cf139945f2</td>\n",
       "      <td>44</td>\n",
       "      <td>fdb7e03d-12ca-49a4-bfe6-437ccdda7183</td>\n",
       "      <td>2018 TIGER/Line Shapefile, Current State and E...</td>\n",
       "      <td>U.S. Census Bureau</td>\n",
       "      <td>5</td>\n",
       "      <td>E4</td>\n",
       "      <td>2019-02-13T00:00:00</td>\n",
       "      <td>61100</td>\n",
       "      <td>44</td>\n",
       "      <td>Rhode Island</td>\n",
       "      <td>None</td>\n",
       "      <td>4001.456019</td>\n",
       "      <td>1219835</td>\n",
       "      <td>3.675822</td>\n",
       "      <td>0.432129</td>\n",
       "      <td>MULTIPOLYGON (((-71.78970 41.72520, -71.78971 ...</td>\n",
       "    </tr>\n",
       "    <tr>\n",
       "      <th>3</th>\n",
       "      <td>0d88ac84-d840-42d6-8630-8a74300edcd1</td>\n",
       "      <td>50</td>\n",
       "      <td>fdb7e03d-12ca-49a4-bfe6-437ccdda7183</td>\n",
       "      <td>2018 TIGER/Line Shapefile, Current State and E...</td>\n",
       "      <td>U.S. Census Bureau</td>\n",
       "      <td>5</td>\n",
       "      <td>E4</td>\n",
       "      <td>2019-02-13T00:00:00</td>\n",
       "      <td>61100</td>\n",
       "      <td>50</td>\n",
       "      <td>Vermont</td>\n",
       "      <td>None</td>\n",
       "      <td>24904.594000</td>\n",
       "      <td>1779802</td>\n",
       "      <td>9.832536</td>\n",
       "      <td>2.798214</td>\n",
       "      <td>MULTIPOLYGON (((-73.31328 44.26413, -73.31274 ...</td>\n",
       "    </tr>\n",
       "    <tr>\n",
       "      <th>4</th>\n",
       "      <td>7cec439c-4b37-477a-9103-259edcdd85bc</td>\n",
       "      <td>09</td>\n",
       "      <td>fdb7e03d-12ca-49a4-bfe6-437ccdda7183</td>\n",
       "      <td>2018 TIGER/Line Shapefile, Current State and E...</td>\n",
       "      <td>U.S. Census Bureau</td>\n",
       "      <td>5</td>\n",
       "      <td>E4</td>\n",
       "      <td>2019-02-13T00:00:00</td>\n",
       "      <td>61100</td>\n",
       "      <td>09</td>\n",
       "      <td>Connecticut</td>\n",
       "      <td>None</td>\n",
       "      <td>14358.115826</td>\n",
       "      <td>1779780</td>\n",
       "      <td>5.718063</td>\n",
       "      <td>1.550106</td>\n",
       "      <td>MULTIPOLYGON (((-73.51808 41.66672, -73.51807 ...</td>\n",
       "    </tr>\n",
       "    <tr>\n",
       "      <th>5</th>\n",
       "      <td>cf7f843c-9d39-446a-8f66-806075fcbf71</td>\n",
       "      <td>34</td>\n",
       "      <td>fdb7e03d-12ca-49a4-bfe6-437ccdda7183</td>\n",
       "      <td>2018 TIGER/Line Shapefile, Current State and E...</td>\n",
       "      <td>U.S. Census Bureau</td>\n",
       "      <td>5</td>\n",
       "      <td>E4</td>\n",
       "      <td>2019-02-13T00:00:00</td>\n",
       "      <td>61100</td>\n",
       "      <td>34</td>\n",
       "      <td>New Jersey</td>\n",
       "      <td>None</td>\n",
       "      <td>22592.685085</td>\n",
       "      <td>1779795</td>\n",
       "      <td>8.546806</td>\n",
       "      <td>2.386717</td>\n",
       "      <td>MULTIPOLYGON (((-75.18960 40.59178, -75.18977 ...</td>\n",
       "    </tr>\n",
       "    <tr>\n",
       "      <th>6</th>\n",
       "      <td>64d9599c-be76-4088-85a6-ac4a4ec31a1b</td>\n",
       "      <td>42</td>\n",
       "      <td>fdb7e03d-12ca-49a4-bfe6-437ccdda7183</td>\n",
       "      <td>2018 TIGER/Line Shapefile, Current State and E...</td>\n",
       "      <td>U.S. Census Bureau</td>\n",
       "      <td>5</td>\n",
       "      <td>E4</td>\n",
       "      <td>2019-02-13T00:00:00</td>\n",
       "      <td>61100</td>\n",
       "      <td>42</td>\n",
       "      <td>Pennsylvania</td>\n",
       "      <td>None</td>\n",
       "      <td>119279.036122</td>\n",
       "      <td>1779798</td>\n",
       "      <td>17.837676</td>\n",
       "      <td>12.747187</td>\n",
       "      <td>MULTIPOLYGON (((-80.51935 41.84956, -80.51938 ...</td>\n",
       "    </tr>\n",
       "  </tbody>\n",
       "</table>\n",
       "</div>"
      ],
      "text/plain": [
       "                   Permanent_Identifier Source_FeatureID  \\\n",
       "0  0c35ddcb-9001-4c4f-a99e-dc165ac09a2e               36   \n",
       "1  3f74edca-a184-4133-a3b2-ce01c2d8573d               25   \n",
       "2  5d5e9018-2522-4be4-a755-08cf139945f2               44   \n",
       "3  0d88ac84-d840-42d6-8630-8a74300edcd1               50   \n",
       "4  7cec439c-4b37-477a-9103-259edcdd85bc               09   \n",
       "5  cf7f843c-9d39-446a-8f66-806075fcbf71               34   \n",
       "6  64d9599c-be76-4088-85a6-ac4a4ec31a1b               42   \n",
       "\n",
       "                       Source_DatasetID  \\\n",
       "0  fdb7e03d-12ca-49a4-bfe6-437ccdda7183   \n",
       "1  fdb7e03d-12ca-49a4-bfe6-437ccdda7183   \n",
       "2  fdb7e03d-12ca-49a4-bfe6-437ccdda7183   \n",
       "3  fdb7e03d-12ca-49a4-bfe6-437ccdda7183   \n",
       "4  fdb7e03d-12ca-49a4-bfe6-437ccdda7183   \n",
       "5  fdb7e03d-12ca-49a4-bfe6-437ccdda7183   \n",
       "6  fdb7e03d-12ca-49a4-bfe6-437ccdda7183   \n",
       "\n",
       "                                     Source_DataDesc   Source_Originator  \\\n",
       "0  2018 TIGER/Line Shapefile, Current State and E...  U.S. Census Bureau   \n",
       "1  2018 TIGER/Line Shapefile, Current State and E...  U.S. Census Bureau   \n",
       "2  2018 TIGER/Line Shapefile, Current State and E...  U.S. Census Bureau   \n",
       "3  2018 TIGER/Line Shapefile, Current State and E...  U.S. Census Bureau   \n",
       "4  2018 TIGER/Line Shapefile, Current State and E...  U.S. Census Bureau   \n",
       "5  2018 TIGER/Line Shapefile, Current State and E...  U.S. Census Bureau   \n",
       "6  2018 TIGER/Line Shapefile, Current State and E...  U.S. Census Bureau   \n",
       "\n",
       "   Data_Security Distribution_Policy             LoadDate  FCode  \\\n",
       "0              5                  E4  2019-02-13T00:00:00  61100   \n",
       "1              5                  E4  2019-02-13T00:00:00  61100   \n",
       "2              5                  E4  2019-02-13T00:00:00  61100   \n",
       "3              5                  E4  2019-02-13T00:00:00  61100   \n",
       "4              5                  E4  2019-02-13T00:00:00  61100   \n",
       "5              5                  E4  2019-02-13T00:00:00  61100   \n",
       "6              5                  E4  2019-02-13T00:00:00  61100   \n",
       "\n",
       "  State_FIPSCode     State_Name Population2000       AreaSqKM  GNIS_ID  \\\n",
       "0             36       New York           None  141296.128900  1779796   \n",
       "1             25  Massachusetts           None   27335.048586   606926   \n",
       "2             44   Rhode Island           None    4001.456019  1219835   \n",
       "3             50        Vermont           None   24904.594000  1779802   \n",
       "4             09    Connecticut           None   14358.115826  1779780   \n",
       "5             34     New Jersey           None   22592.685085  1779795   \n",
       "6             42   Pennsylvania           None  119279.036122  1779798   \n",
       "\n",
       "   Shape_Length  Shape_Area                                           geometry  \n",
       "0     25.938952   15.580703  MULTIPOLYGON (((-79.31214 42.68681, -79.24977 ...  \n",
       "1     12.000554    2.977855  MULTIPOLYGON (((-71.49826 42.01727, -71.49907 ...  \n",
       "2      3.675822    0.432129  MULTIPOLYGON (((-71.78970 41.72520, -71.78971 ...  \n",
       "3      9.832536    2.798214  MULTIPOLYGON (((-73.31328 44.26413, -73.31274 ...  \n",
       "4      5.718063    1.550106  MULTIPOLYGON (((-73.51808 41.66672, -73.51807 ...  \n",
       "5      8.546806    2.386717  MULTIPOLYGON (((-75.18960 40.59178, -75.18977 ...  \n",
       "6     17.837676   12.747187  MULTIPOLYGON (((-80.51935 41.84956, -80.51938 ...  "
      ]
     },
     "execution_count": 71,
     "metadata": {},
     "output_type": "execute_result"
    }
   ],
   "source": [
    "stateDf = dfDict['GU_StateOrTerritory']\n",
    "stateDf.head(n=7)"
   ]
  },
  {
   "cell_type": "markdown",
   "metadata": {},
   "source": [
    "Καλώντας την συνάρτηση plot() παράγουμε ενα γράφημα για με τις πληροφορίες του dataset ."
   ]
  },
  {
   "cell_type": "code",
   "execution_count": 72,
   "metadata": {},
   "outputs": [
    {
     "data": {
      "text/plain": [
       "<matplotlib.axes._subplots.AxesSubplot at 0x7fdf840c4c18>"
      ]
     },
     "execution_count": 72,
     "metadata": {},
     "output_type": "execute_result"
    },
    {
     "data": {
      "image/png": "[encoded data removed]",
      "text/plain": [
       "<Figure size 864x1440 with 1 Axes>"
      ]
     },
     "metadata": {
      "needs_background": "light"
     },
     "output_type": "display_data"
    }
   ],
   "source": [
    "stateDf.plot(column='State_Name',figsize=(12, 20))"
   ]
  },
  {
   "cell_type": "markdown",
   "metadata": {},
   "source": [
    "## County Or Equivalent\n",
    "Συνεχίζουμε μελετώντας το layer GU_CountyOrEquivalent .Το dataset περιέχει παρόμοια features με το StateOrTerritory . Περιέχει , επίσης και εγγραφές απο γειτονικές πολιτείες ,(πχ. Wayne County ,PA)"
   ]
  },
  {
   "cell_type": "markdown",
   "metadata": {},
   "source": [
    "### Data"
   ]
  },
  {
   "cell_type": "code",
   "execution_count": 73,
   "metadata": {},
   "outputs": [
    {
     "data": {
      "text/html": [
       "<div>\n",
       "<style scoped>\n",
       "    .dataframe tbody tr th:only-of-type {\n",
       "        vertical-align: middle;\n",
       "    }\n",
       "\n",
       "    .dataframe tbody tr th {\n",
       "        vertical-align: top;\n",
       "    }\n",
       "\n",
       "    .dataframe thead th {\n",
       "        text-align: right;\n",
       "    }\n",
       "</style>\n",
       "<table border=\"1\" class=\"dataframe\">\n",
       "  <thead>\n",
       "    <tr style=\"text-align: right;\">\n",
       "      <th></th>\n",
       "      <th>Permanent_Identifier</th>\n",
       "      <th>Source_FeatureID</th>\n",
       "      <th>Source_DatasetID</th>\n",
       "      <th>Source_DataDesc</th>\n",
       "      <th>Source_Originator</th>\n",
       "      <th>Data_Security</th>\n",
       "      <th>Distribution_Policy</th>\n",
       "      <th>LoadDate</th>\n",
       "      <th>FCode</th>\n",
       "      <th>State_FIPSCode</th>\n",
       "      <th>State_Name</th>\n",
       "      <th>County_FIPSCode</th>\n",
       "      <th>County_Name</th>\n",
       "      <th>StCo_FIPSCode</th>\n",
       "      <th>Population2000</th>\n",
       "      <th>AreaSqKM</th>\n",
       "      <th>GNIS_ID</th>\n",
       "      <th>Shape_Length</th>\n",
       "      <th>Shape_Area</th>\n",
       "      <th>geometry</th>\n",
       "    </tr>\n",
       "  </thead>\n",
       "  <tbody>\n",
       "    <tr>\n",
       "      <th>0</th>\n",
       "      <td>3b6354aa-0aba-4b1f-869e-1ff3f73e5861</td>\n",
       "      <td>36003</td>\n",
       "      <td>2b97941f-8f2a-4cac-ba12-cfdde839faf4</td>\n",
       "      <td>2018 TIGER/Line Shapefile, Current County and ...</td>\n",
       "      <td>U.S. Census Bureau</td>\n",
       "      <td>5</td>\n",
       "      <td>E4</td>\n",
       "      <td>2019-02-20T00:00:00</td>\n",
       "      <td>61200</td>\n",
       "      <td>36</td>\n",
       "      <td>New York</td>\n",
       "      <td>003</td>\n",
       "      <td>Allegany</td>\n",
       "      <td>36003</td>\n",
       "      <td>None</td>\n",
       "      <td>2679.029191</td>\n",
       "      <td>974100</td>\n",
       "      <td>2.198456</td>\n",
       "      <td>0.292288</td>\n",
       "      <td>MULTIPOLYGON (((-78.30919 42.26113, -78.30920 ...</td>\n",
       "    </tr>\n",
       "    <tr>\n",
       "      <th>1</th>\n",
       "      <td>d4001bdd-0698-4d27-9e27-5e5be33aa379</td>\n",
       "      <td>36097</td>\n",
       "      <td>2b97941f-8f2a-4cac-ba12-cfdde839faf4</td>\n",
       "      <td>2018 TIGER/Line Shapefile, Current County and ...</td>\n",
       "      <td>U.S. Census Bureau</td>\n",
       "      <td>5</td>\n",
       "      <td>E4</td>\n",
       "      <td>2019-02-20T00:00:00</td>\n",
       "      <td>61200</td>\n",
       "      <td>36</td>\n",
       "      <td>New York</td>\n",
       "      <td>097</td>\n",
       "      <td>Schuyler</td>\n",
       "      <td>36097</td>\n",
       "      <td>None</td>\n",
       "      <td>886.651825</td>\n",
       "      <td>974146</td>\n",
       "      <td>1.659720</td>\n",
       "      <td>0.096942</td>\n",
       "      <td>MULTIPOLYGON (((-76.73391 42.29372, -76.73392 ...</td>\n",
       "    </tr>\n",
       "    <tr>\n",
       "      <th>2</th>\n",
       "      <td>9dfd3c57-f0d0-44cd-b9f4-e0f201717d71</td>\n",
       "      <td>42127</td>\n",
       "      <td>2b97941f-8f2a-4cac-ba12-cfdde839faf4</td>\n",
       "      <td>2018 TIGER/Line Shapefile, Current County and ...</td>\n",
       "      <td>U.S. Census Bureau</td>\n",
       "      <td>5</td>\n",
       "      <td>E4</td>\n",
       "      <td>2019-02-20T00:00:00</td>\n",
       "      <td>61200</td>\n",
       "      <td>42</td>\n",
       "      <td>Pennsylvania</td>\n",
       "      <td>127</td>\n",
       "      <td>Wayne</td>\n",
       "      <td>42127</td>\n",
       "      <td>None</td>\n",
       "      <td>1944.081751</td>\n",
       "      <td>1213692</td>\n",
       "      <td>2.633211</td>\n",
       "      <td>0.210118</td>\n",
       "      <td>MULTIPOLYGON (((-75.45976 41.59504, -75.45980 ...</td>\n",
       "    </tr>\n",
       "    <tr>\n",
       "      <th>3</th>\n",
       "      <td>3ef00c83-bd33-4dbd-a874-1179e1120f53</td>\n",
       "      <td>36091</td>\n",
       "      <td>2b97941f-8f2a-4cac-ba12-cfdde839faf4</td>\n",
       "      <td>2018 TIGER/Line Shapefile, Current County and ...</td>\n",
       "      <td>U.S. Census Bureau</td>\n",
       "      <td>5</td>\n",
       "      <td>E4</td>\n",
       "      <td>2019-02-20T00:00:00</td>\n",
       "      <td>61200</td>\n",
       "      <td>36</td>\n",
       "      <td>New York</td>\n",
       "      <td>091</td>\n",
       "      <td>Saratoga</td>\n",
       "      <td>36091</td>\n",
       "      <td>None</td>\n",
       "      <td>2185.451813</td>\n",
       "      <td>974143</td>\n",
       "      <td>2.491212</td>\n",
       "      <td>0.241674</td>\n",
       "      <td>MULTIPOLYGON (((-74.12433 43.15390, -74.12457 ...</td>\n",
       "    </tr>\n",
       "    <tr>\n",
       "      <th>4</th>\n",
       "      <td>acf8f726-7f0b-4c18-940e-759fec8fd1c1</td>\n",
       "      <td>36041</td>\n",
       "      <td>2b97941f-8f2a-4cac-ba12-cfdde839faf4</td>\n",
       "      <td>2018 TIGER/Line Shapefile, Current County and ...</td>\n",
       "      <td>U.S. Census Bureau</td>\n",
       "      <td>5</td>\n",
       "      <td>E4</td>\n",
       "      <td>2019-02-20T00:00:00</td>\n",
       "      <td>61200</td>\n",
       "      <td>36</td>\n",
       "      <td>New York</td>\n",
       "      <td>041</td>\n",
       "      <td>Hamilton</td>\n",
       "      <td>36041</td>\n",
       "      <td>None</td>\n",
       "      <td>4682.194334</td>\n",
       "      <td>974119</td>\n",
       "      <td>3.444040</td>\n",
       "      <td>0.522459</td>\n",
       "      <td>MULTIPOLYGON (((-74.82011 43.81851, -74.82038 ...</td>\n",
       "    </tr>\n",
       "    <tr>\n",
       "      <th>5</th>\n",
       "      <td>ec52c387-b1b2-411f-a5ef-d1f9d04501df</td>\n",
       "      <td>36089</td>\n",
       "      <td>2b97941f-8f2a-4cac-ba12-cfdde839faf4</td>\n",
       "      <td>2018 TIGER/Line Shapefile, Current County and ...</td>\n",
       "      <td>U.S. Census Bureau</td>\n",
       "      <td>5</td>\n",
       "      <td>E4</td>\n",
       "      <td>2019-02-20T00:00:00</td>\n",
       "      <td>61200</td>\n",
       "      <td>36</td>\n",
       "      <td>New York</td>\n",
       "      <td>089</td>\n",
       "      <td>St. Lawrence</td>\n",
       "      <td>36089</td>\n",
       "      <td>None</td>\n",
       "      <td>7307.176197</td>\n",
       "      <td>977309</td>\n",
       "      <td>3.798192</td>\n",
       "      <td>0.826795</td>\n",
       "      <td>MULTIPOLYGON (((-74.93945 44.98442, -74.93447 ...</td>\n",
       "    </tr>\n",
       "    <tr>\n",
       "      <th>6</th>\n",
       "      <td>cd261b42-7af5-4974-9714-a8ab2baccfc7</td>\n",
       "      <td>36027</td>\n",
       "      <td>2b97941f-8f2a-4cac-ba12-cfdde839faf4</td>\n",
       "      <td>2018 TIGER/Line Shapefile, Current County and ...</td>\n",
       "      <td>U.S. Census Bureau</td>\n",
       "      <td>5</td>\n",
       "      <td>E4</td>\n",
       "      <td>2019-02-20T00:00:00</td>\n",
       "      <td>61200</td>\n",
       "      <td>36</td>\n",
       "      <td>New York</td>\n",
       "      <td>027</td>\n",
       "      <td>Dutchess</td>\n",
       "      <td>36027</td>\n",
       "      <td>None</td>\n",
       "      <td>2137.634520</td>\n",
       "      <td>974112</td>\n",
       "      <td>2.225778</td>\n",
       "      <td>0.231450</td>\n",
       "      <td>MULTIPOLYGON (((-73.94041 41.87298, -73.94043 ...</td>\n",
       "    </tr>\n",
       "  </tbody>\n",
       "</table>\n",
       "</div>"
      ],
      "text/plain": [
       "                   Permanent_Identifier Source_FeatureID  \\\n",
       "0  3b6354aa-0aba-4b1f-869e-1ff3f73e5861            36003   \n",
       "1  d4001bdd-0698-4d27-9e27-5e5be33aa379            36097   \n",
       "2  9dfd3c57-f0d0-44cd-b9f4-e0f201717d71            42127   \n",
       "3  3ef00c83-bd33-4dbd-a874-1179e1120f53            36091   \n",
       "4  acf8f726-7f0b-4c18-940e-759fec8fd1c1            36041   \n",
       "5  ec52c387-b1b2-411f-a5ef-d1f9d04501df            36089   \n",
       "6  cd261b42-7af5-4974-9714-a8ab2baccfc7            36027   \n",
       "\n",
       "                       Source_DatasetID  \\\n",
       "0  2b97941f-8f2a-4cac-ba12-cfdde839faf4   \n",
       "1  2b97941f-8f2a-4cac-ba12-cfdde839faf4   \n",
       "2  2b97941f-8f2a-4cac-ba12-cfdde839faf4   \n",
       "3  2b97941f-8f2a-4cac-ba12-cfdde839faf4   \n",
       "4  2b97941f-8f2a-4cac-ba12-cfdde839faf4   \n",
       "5  2b97941f-8f2a-4cac-ba12-cfdde839faf4   \n",
       "6  2b97941f-8f2a-4cac-ba12-cfdde839faf4   \n",
       "\n",
       "                                     Source_DataDesc   Source_Originator  \\\n",
       "0  2018 TIGER/Line Shapefile, Current County and ...  U.S. Census Bureau   \n",
       "1  2018 TIGER/Line Shapefile, Current County and ...  U.S. Census Bureau   \n",
       "2  2018 TIGER/Line Shapefile, Current County and ...  U.S. Census Bureau   \n",
       "3  2018 TIGER/Line Shapefile, Current County and ...  U.S. Census Bureau   \n",
       "4  2018 TIGER/Line Shapefile, Current County and ...  U.S. Census Bureau   \n",
       "5  2018 TIGER/Line Shapefile, Current County and ...  U.S. Census Bureau   \n",
       "6  2018 TIGER/Line Shapefile, Current County and ...  U.S. Census Bureau   \n",
       "\n",
       "   Data_Security Distribution_Policy             LoadDate  FCode  \\\n",
       "0              5                  E4  2019-02-20T00:00:00  61200   \n",
       "1              5                  E4  2019-02-20T00:00:00  61200   \n",
       "2              5                  E4  2019-02-20T00:00:00  61200   \n",
       "3              5                  E4  2019-02-20T00:00:00  61200   \n",
       "4              5                  E4  2019-02-20T00:00:00  61200   \n",
       "5              5                  E4  2019-02-20T00:00:00  61200   \n",
       "6              5                  E4  2019-02-20T00:00:00  61200   \n",
       "\n",
       "  State_FIPSCode    State_Name County_FIPSCode   County_Name StCo_FIPSCode  \\\n",
       "0             36      New York             003      Allegany         36003   \n",
       "1             36      New York             097      Schuyler         36097   \n",
       "2             42  Pennsylvania             127         Wayne         42127   \n",
       "3             36      New York             091      Saratoga         36091   \n",
       "4             36      New York             041      Hamilton         36041   \n",
       "5             36      New York             089  St. Lawrence         36089   \n",
       "6             36      New York             027      Dutchess         36027   \n",
       "\n",
       "  Population2000     AreaSqKM  GNIS_ID  Shape_Length  Shape_Area  \\\n",
       "0           None  2679.029191   974100      2.198456    0.292288   \n",
       "1           None   886.651825   974146      1.659720    0.096942   \n",
       "2           None  1944.081751  1213692      2.633211    0.210118   \n",
       "3           None  2185.451813   974143      2.491212    0.241674   \n",
       "4           None  4682.194334   974119      3.444040    0.522459   \n",
       "5           None  7307.176197   977309      3.798192    0.826795   \n",
       "6           None  2137.634520   974112      2.225778    0.231450   \n",
       "\n",
       "                                            geometry  \n",
       "0  MULTIPOLYGON (((-78.30919 42.26113, -78.30920 ...  \n",
       "1  MULTIPOLYGON (((-76.73391 42.29372, -76.73392 ...  \n",
       "2  MULTIPOLYGON (((-75.45976 41.59504, -75.45980 ...  \n",
       "3  MULTIPOLYGON (((-74.12433 43.15390, -74.12457 ...  \n",
       "4  MULTIPOLYGON (((-74.82011 43.81851, -74.82038 ...  \n",
       "5  MULTIPOLYGON (((-74.93945 44.98442, -74.93447 ...  \n",
       "6  MULTIPOLYGON (((-73.94041 41.87298, -73.94043 ...  "
      ]
     },
     "execution_count": 73,
     "metadata": {},
     "output_type": "execute_result"
    }
   ],
   "source": [
    "countyDf = dfDict['GU_CountyOrEquivalent']\n",
    "nycounties = countyDf.loc[countyDf['State_Name'] == 'New York']\n",
    "countyDf.head(n=7)"
   ]
  },
  {
   "cell_type": "markdown",
   "metadata": {},
   "source": [
    "### Map"
   ]
  },
  {
   "cell_type": "code",
   "execution_count": 74,
   "metadata": {},
   "outputs": [
    {
     "name": "stdout",
     "output_type": "stream",
     "text": [
      "62\n"
     ]
    },
    {
     "data": {
      "image/png": "[encoded data removed]",
      "text/plain": [
       "<Figure size 1440x2160 with 1 Axes>"
      ]
     },
     "metadata": {
      "needs_background": "light"
     },
     "output_type": "display_data"
    }
   ],
   "source": [
    "nycounties.plot(column='Source_FeatureID',figsize=(20, 30),cmap=\"Dark2\")\n",
    "plt.title('Counties in the State of New York')\n",
    "print(nycounties.shape[0])\n",
    "for idx, row in nycounties.iterrows():\n",
    "    plt.annotate(s=row['County_Name'],xy=row.geometry.centroid.coords[0],\n",
    "                 horizontalalignment='center')\n"
   ]
  },
  {
   "cell_type": "markdown",
   "metadata": {},
   "source": [
    "## Minor Civil Division\n"
   ]
  },
  {
   "cell_type": "markdown",
   "metadata": {},
   "source": [
    "### Data"
   ]
  },
  {
   "cell_type": "code",
   "execution_count": 75,
   "metadata": {},
   "outputs": [
    {
     "ename": "IndexingError",
     "evalue": "Unalignable boolean Series provided as indexer (index of the boolean Series and of the indexed object do not match).",
     "output_type": "error",
     "traceback": [
      "\u001b[0;31m---------------------------------------------------------------------------\u001b[0m",
      "\u001b[0;31mIndexingError\u001b[0m                             Traceback (most recent call last)",
      "\u001b[0;32m<ipython-input-75-03b9525d553f>\u001b[0m in \u001b[0;36m<module>\u001b[0;34m\u001b[0m\n\u001b[0;32m----> 1\u001b[0;31m \u001b[0mminor\u001b[0m \u001b[0;34m=\u001b[0m \u001b[0mdfDict\u001b[0m\u001b[0;34m[\u001b[0m\u001b[0;34m'GU_MinorCivilDivision'\u001b[0m\u001b[0;34m]\u001b[0m\u001b[0;34m.\u001b[0m\u001b[0mloc\u001b[0m\u001b[0;34m[\u001b[0m\u001b[0mminor\u001b[0m\u001b[0;34m[\u001b[0m\u001b[0;34m'State_Name'\u001b[0m\u001b[0;34m]\u001b[0m \u001b[0;34m==\u001b[0m \u001b[0;34m'New York'\u001b[0m\u001b[0;34m]\u001b[0m\u001b[0;34m\u001b[0m\u001b[0;34m\u001b[0m\u001b[0m\n\u001b[0m\u001b[1;32m      2\u001b[0m \u001b[0mminor\u001b[0m\u001b[0;34m.\u001b[0m\u001b[0mhead\u001b[0m\u001b[0;34m(\u001b[0m\u001b[0mn\u001b[0m\u001b[0;34m=\u001b[0m\u001b[0;36m7\u001b[0m\u001b[0;34m)\u001b[0m\u001b[0;34m\u001b[0m\u001b[0;34m\u001b[0m\u001b[0m\n",
      "\u001b[0;32m~/Programs/python_projects/nbd-exploration/venv/lib/python3.7/site-packages/pandas/core/indexing.py\u001b[0m in \u001b[0;36m__getitem__\u001b[0;34m(self, key)\u001b[0m\n\u001b[1;32m   1766\u001b[0m \u001b[0;34m\u001b[0m\u001b[0m\n\u001b[1;32m   1767\u001b[0m             \u001b[0mmaybe_callable\u001b[0m \u001b[0;34m=\u001b[0m \u001b[0mcom\u001b[0m\u001b[0;34m.\u001b[0m\u001b[0mapply_if_callable\u001b[0m\u001b[0;34m(\u001b[0m\u001b[0mkey\u001b[0m\u001b[0;34m,\u001b[0m \u001b[0mself\u001b[0m\u001b[0;34m.\u001b[0m\u001b[0mobj\u001b[0m\u001b[0;34m)\u001b[0m\u001b[0;34m\u001b[0m\u001b[0;34m\u001b[0m\u001b[0m\n\u001b[0;32m-> 1768\u001b[0;31m             \u001b[0;32mreturn\u001b[0m \u001b[0mself\u001b[0m\u001b[0;34m.\u001b[0m\u001b[0m_getitem_axis\u001b[0m\u001b[0;34m(\u001b[0m\u001b[0mmaybe_callable\u001b[0m\u001b[0;34m,\u001b[0m \u001b[0maxis\u001b[0m\u001b[0;34m=\u001b[0m\u001b[0maxis\u001b[0m\u001b[0;34m)\u001b[0m\u001b[0;34m\u001b[0m\u001b[0;34m\u001b[0m\u001b[0m\n\u001b[0m\u001b[1;32m   1769\u001b[0m \u001b[0;34m\u001b[0m\u001b[0m\n\u001b[1;32m   1770\u001b[0m     \u001b[0;32mdef\u001b[0m \u001b[0m_is_scalar_access\u001b[0m\u001b[0;34m(\u001b[0m\u001b[0mself\u001b[0m\u001b[0;34m,\u001b[0m \u001b[0mkey\u001b[0m\u001b[0;34m:\u001b[0m \u001b[0mTuple\u001b[0m\u001b[0;34m)\u001b[0m\u001b[0;34m:\u001b[0m\u001b[0;34m\u001b[0m\u001b[0;34m\u001b[0m\u001b[0m\n",
      "\u001b[0;32m~/Programs/python_projects/nbd-exploration/venv/lib/python3.7/site-packages/pandas/core/indexing.py\u001b[0m in \u001b[0;36m_getitem_axis\u001b[0;34m(self, key, axis)\u001b[0m\n\u001b[1;32m   1912\u001b[0m             \u001b[0;32mreturn\u001b[0m \u001b[0mself\u001b[0m\u001b[0;34m.\u001b[0m\u001b[0m_get_slice_axis\u001b[0m\u001b[0;34m(\u001b[0m\u001b[0mkey\u001b[0m\u001b[0;34m,\u001b[0m \u001b[0maxis\u001b[0m\u001b[0;34m=\u001b[0m\u001b[0maxis\u001b[0m\u001b[0;34m)\u001b[0m\u001b[0;34m\u001b[0m\u001b[0;34m\u001b[0m\u001b[0m\n\u001b[1;32m   1913\u001b[0m         \u001b[0;32melif\u001b[0m \u001b[0mcom\u001b[0m\u001b[0;34m.\u001b[0m\u001b[0mis_bool_indexer\u001b[0m\u001b[0;34m(\u001b[0m\u001b[0mkey\u001b[0m\u001b[0;34m)\u001b[0m\u001b[0;34m:\u001b[0m\u001b[0;34m\u001b[0m\u001b[0;34m\u001b[0m\u001b[0m\n\u001b[0;32m-> 1914\u001b[0;31m             \u001b[0;32mreturn\u001b[0m \u001b[0mself\u001b[0m\u001b[0;34m.\u001b[0m\u001b[0m_getbool_axis\u001b[0m\u001b[0;34m(\u001b[0m\u001b[0mkey\u001b[0m\u001b[0;34m,\u001b[0m \u001b[0maxis\u001b[0m\u001b[0;34m=\u001b[0m\u001b[0maxis\u001b[0m\u001b[0;34m)\u001b[0m\u001b[0;34m\u001b[0m\u001b[0;34m\u001b[0m\u001b[0m\n\u001b[0m\u001b[1;32m   1915\u001b[0m         \u001b[0;32melif\u001b[0m \u001b[0mis_list_like_indexer\u001b[0m\u001b[0;34m(\u001b[0m\u001b[0mkey\u001b[0m\u001b[0;34m)\u001b[0m\u001b[0;34m:\u001b[0m\u001b[0;34m\u001b[0m\u001b[0;34m\u001b[0m\u001b[0m\n\u001b[1;32m   1916\u001b[0m \u001b[0;34m\u001b[0m\u001b[0m\n",
      "\u001b[0;32m~/Programs/python_projects/nbd-exploration/venv/lib/python3.7/site-packages/pandas/core/indexing.py\u001b[0m in \u001b[0;36m_getbool_axis\u001b[0;34m(self, key, axis)\u001b[0m\n\u001b[1;32m   1780\u001b[0m         \u001b[0;31m# caller is responsible for ensuring non-None axis\u001b[0m\u001b[0;34m\u001b[0m\u001b[0;34m\u001b[0m\u001b[0;34m\u001b[0m\u001b[0m\n\u001b[1;32m   1781\u001b[0m         \u001b[0mlabels\u001b[0m \u001b[0;34m=\u001b[0m \u001b[0mself\u001b[0m\u001b[0;34m.\u001b[0m\u001b[0mobj\u001b[0m\u001b[0;34m.\u001b[0m\u001b[0m_get_axis\u001b[0m\u001b[0;34m(\u001b[0m\u001b[0maxis\u001b[0m\u001b[0;34m)\u001b[0m\u001b[0;34m\u001b[0m\u001b[0;34m\u001b[0m\u001b[0m\n\u001b[0;32m-> 1782\u001b[0;31m         \u001b[0mkey\u001b[0m \u001b[0;34m=\u001b[0m \u001b[0mcheck_bool_indexer\u001b[0m\u001b[0;34m(\u001b[0m\u001b[0mlabels\u001b[0m\u001b[0;34m,\u001b[0m \u001b[0mkey\u001b[0m\u001b[0;34m)\u001b[0m\u001b[0;34m\u001b[0m\u001b[0;34m\u001b[0m\u001b[0m\n\u001b[0m\u001b[1;32m   1783\u001b[0m         \u001b[0minds\u001b[0m \u001b[0;34m=\u001b[0m \u001b[0mkey\u001b[0m\u001b[0;34m.\u001b[0m\u001b[0mnonzero\u001b[0m\u001b[0;34m(\u001b[0m\u001b[0;34m)\u001b[0m\u001b[0;34m[\u001b[0m\u001b[0;36m0\u001b[0m\u001b[0;34m]\u001b[0m\u001b[0;34m\u001b[0m\u001b[0;34m\u001b[0m\u001b[0m\n\u001b[1;32m   1784\u001b[0m         \u001b[0;32mreturn\u001b[0m \u001b[0mself\u001b[0m\u001b[0;34m.\u001b[0m\u001b[0mobj\u001b[0m\u001b[0;34m.\u001b[0m\u001b[0m_take_with_is_copy\u001b[0m\u001b[0;34m(\u001b[0m\u001b[0minds\u001b[0m\u001b[0;34m,\u001b[0m \u001b[0maxis\u001b[0m\u001b[0;34m=\u001b[0m\u001b[0maxis\u001b[0m\u001b[0;34m)\u001b[0m\u001b[0;34m\u001b[0m\u001b[0;34m\u001b[0m\u001b[0m\n",
      "\u001b[0;32m~/Programs/python_projects/nbd-exploration/venv/lib/python3.7/site-packages/pandas/core/indexing.py\u001b[0m in \u001b[0;36mcheck_bool_indexer\u001b[0;34m(index, key)\u001b[0m\n\u001b[1;32m   2316\u001b[0m         \u001b[0;32mif\u001b[0m \u001b[0mmask\u001b[0m\u001b[0;34m.\u001b[0m\u001b[0many\u001b[0m\u001b[0;34m(\u001b[0m\u001b[0;34m)\u001b[0m\u001b[0;34m:\u001b[0m\u001b[0;34m\u001b[0m\u001b[0;34m\u001b[0m\u001b[0m\n\u001b[1;32m   2317\u001b[0m             raise IndexingError(\n\u001b[0;32m-> 2318\u001b[0;31m                 \u001b[0;34m\"Unalignable boolean Series provided as \"\u001b[0m\u001b[0;34m\u001b[0m\u001b[0;34m\u001b[0m\u001b[0m\n\u001b[0m\u001b[1;32m   2319\u001b[0m                 \u001b[0;34m\"indexer (index of the boolean Series and of \"\u001b[0m\u001b[0;34m\u001b[0m\u001b[0;34m\u001b[0m\u001b[0m\n\u001b[1;32m   2320\u001b[0m                 \u001b[0;34m\"the indexed object do not match).\"\u001b[0m\u001b[0;34m\u001b[0m\u001b[0;34m\u001b[0m\u001b[0m\n",
      "\u001b[0;31mIndexingError\u001b[0m: Unalignable boolean Series provided as indexer (index of the boolean Series and of the indexed object do not match)."
     ]
    }
   ],
   "source": [
    "minor = dfDict['GU_MinorCivilDivision'].loc[minor['State_Name'] == 'New York']\n",
    "minor.head(n=7)"
   ]
  },
  {
   "cell_type": "markdown",
   "metadata": {},
   "source": [
    "### Map"
   ]
  },
  {
   "cell_type": "code",
   "execution_count": null,
   "metadata": {},
   "outputs": [],
   "source": [
    "minor.plot(column='GNIS_ID',figsize=(12, 20))\n",
    "plt.title('Minor Civil Division in the State of New York')"
   ]
  },
  {
   "cell_type": "markdown",
   "metadata": {},
   "source": [
    "## Reserves"
   ]
  },
  {
   "cell_type": "markdown",
   "metadata": {},
   "source": [
    "### Data"
   ]
  },
  {
   "cell_type": "code",
   "execution_count": null,
   "metadata": {},
   "outputs": [],
   "source": [
    "reserve = dfDict['GU_Reserve']\n",
    "print(reserve.shape)\n",
    "reserve.head()"
   ]
  },
  {
   "cell_type": "markdown",
   "metadata": {},
   "source": [
    "### Map"
   ]
  },
  {
   "cell_type": "code",
   "execution_count": null,
   "metadata": {
    "scrolled": false
   },
   "outputs": [],
   "source": [
    "reserve.plot(cmap='Dark2',figsize=(20,20))"
   ]
  },
  {
   "cell_type": "markdown",
   "metadata": {},
   "source": [
    "## Native American Land"
   ]
  },
  {
   "cell_type": "markdown",
   "metadata": {},
   "source": [
    "### Data"
   ]
  },
  {
   "cell_type": "code",
   "execution_count": null,
   "metadata": {},
   "outputs": [],
   "source": [
    "native = dfDict['GU_NativeAmericanArea']\n",
    "print(native.shape)\n",
    "native.head()"
   ]
  },
  {
   "cell_type": "markdown",
   "metadata": {},
   "source": [
    "### Map"
   ]
  },
  {
   "cell_type": "code",
   "execution_count": null,
   "metadata": {
    "scrolled": false
   },
   "outputs": [],
   "source": [
    "native.plot(color='red',figsize=(10,20),zorder=2)"
   ]
  },
  {
   "cell_type": "markdown",
   "metadata": {},
   "source": [
    "## Jurisdictional"
   ]
  },
  {
   "cell_type": "markdown",
   "metadata": {},
   "source": [
    "### Data"
   ]
  },
  {
   "cell_type": "code",
   "execution_count": null,
   "metadata": {},
   "outputs": [],
   "source": [
    "juris = dfDict['GU_Jurisdictional'].loc[juris['State_Name'] == 'New York']\n",
    "print(juris.shape)\n",
    "juris.head()"
   ]
  },
  {
   "cell_type": "markdown",
   "metadata": {},
   "source": [
    "### Map"
   ]
  },
  {
   "cell_type": "code",
   "execution_count": null,
   "metadata": {
    "scrolled": false
   },
   "outputs": [],
   "source": [
    "juris.plot(cmap='Dark2',figsize=(10,20))"
   ]
  },
  {
   "cell_type": "markdown",
   "metadata": {},
   "source": [
    "## Incorporated and Unincorporated Places"
   ]
  },
  {
   "cell_type": "markdown",
   "metadata": {},
   "source": [
    "### Data"
   ]
  },
  {
   "cell_type": "code",
   "execution_count": null,
   "metadata": {},
   "outputs": [],
   "source": [
    "incorp = dfDict['GU_IncorporatedPlace']\n",
    "print(incorp.shape)\n",
    "incorp.head()"
   ]
  },
  {
   "cell_type": "code",
   "execution_count": null,
   "metadata": {},
   "outputs": [],
   "source": [
    "unincorp = dfDict['GU_UnincorporatedPlace']\n",
    "print(unincorp.shape)\n",
    "unincorp.head()"
   ]
  },
  {
   "cell_type": "markdown",
   "metadata": {},
   "source": [
    "### Map"
   ]
  },
  {
   "cell_type": "code",
   "execution_count": null,
   "metadata": {
    "scrolled": true
   },
   "outputs": [],
   "source": [
    "unincorp.plot(cmap='Dark2',figsize=(10,20))"
   ]
  },
  {
   "cell_type": "markdown",
   "metadata": {},
   "source": [
    "## All"
   ]
  },
  {
   "cell_type": "code",
   "execution_count": null,
   "metadata": {},
   "outputs": [],
   "source": [
    "reserves = dfDict['GU_Reserve']\n",
    "print(reserves.shape)\n",
    "reserves.head(n=64)"
   ]
  },
  {
   "cell_type": "code",
   "execution_count": null,
   "metadata": {},
   "outputs": [],
   "source": [
    "for df in dfDict:\n",
    "    print(df)\n",
    "    if len(df) == 0:\n",
    "        continue\n",
    "    if df == 'GU_Reserve' or df == 'GU_NativeAmericanArea' :\n",
    "        dfDict[df].plot(figsize=(12, 20))\n",
    "    else:\n",
    "        dfDict[df].loc[dfDict[df]['State_Name'] == 'New York'].plot(figsize=(12, 20))\n",
    "        plt.title('{} in the State of New York'.format(df))\n",
    "        \n",
    "    "
   ]
  },
  {
   "cell_type": "markdown",
   "metadata": {},
   "source": [
    "## Βιλιογραφία\n",
    "\n",
    "<div class=\"cite2c-biblio\"></div>"
   ]
  }
 ],
 "metadata": {
  "cite2c": {
   "citations": {
    "7747773/AUZNIT2Q": {
     "URL": "https://zenodo.org/record/2585849",
     "abstract": "Small bug-fix release for compatibility with the latest Fiona and PySAL releases: Compatibility with Fiona 1.8: fix deprecation warning (#854 and #916). Compatibility with PySAL 2.0: switched to mapclassify instead of PySAL as dependency for choropleth mapping with the scheme keyword (#872). Fix for new overlay implementation in case the intersection is empty (#800). Acknowledgments A total of 7 people contributed to this release. People with a \"+\" by their names contributed a patch for the first time. Filipe Joris Van den Bossche Kris Vanhoof + Martin Fleischmann + Simon Andersson + TimoRoth + Ömer Özak",
     "accessed": {
      "day": 10,
      "month": 4,
      "year": 2020
     },
     "author": [
      {
       "family": "Kelsey Jordahl",
       "given": ""
      },
      {
       "family": "Joris Van den Bossche",
       "given": ""
      },
      {
       "family": "Jacob Wasserman",
       "given": ""
      },
      {
       "family": "James McBride",
       "given": ""
      },
      {
       "family": "Jeffrey Gerard",
       "given": ""
      },
      {
       "family": "Jeff Tratner",
       "given": ""
      },
      {
       "family": "Matthew Perry",
       "given": ""
      },
      {
       "family": "Carson Farmer",
       "given": ""
      },
      {
       "family": "Micah Cochran",
       "given": ""
      },
      {
       "family": "Sean Gillies",
       "given": ""
      },
      {
       "family": "Matt Bartos",
       "given": ""
      },
      {
       "family": "Lucas Culbertson",
       "given": ""
      },
      {
       "family": "Nick Eubank",
       "given": ""
      },
      {
       "family": "maxalbert",
       "given": ""
      },
      {
       "family": "Martin Fleischmann",
       "given": ""
      },
      {
       "family": "Geir Arne Hjelle",
       "given": ""
      },
      {
       "family": "Dani Arribas-Bel",
       "given": ""
      },
      {
       "family": "Christopher Ren",
       "given": ""
      },
      {
       "family": "Sergio Rey",
       "given": ""
      },
      {
       "family": "Martin Journois",
       "given": ""
      },
      {
       "family": "Levi John Wolf",
       "given": ""
      },
      {
       "family": "Aleksey Bilogur",
       "given": ""
      },
      {
       "family": "Nick Grue",
       "given": ""
      },
      {
       "family": "Joshua Wilson",
       "given": ""
      },
      {
       "family": "YuichiNotoya",
       "given": ""
      },
      {
       "family": "Leah Wasser",
       "given": ""
      },
      {
       "family": "Filipe",
       "given": ""
      },
      {
       "family": "Chris Holdgraf",
       "given": ""
      },
      {
       "family": "Adam Greenhall",
       "given": ""
      },
      {
       "family": "John Trengrove",
       "given": ""
      }
     ],
     "id": "7747773/AUZNIT2Q",
     "issued": {
      "day": 6,
      "month": 3,
      "year": 2019
     },
     "note": "DOI: 10.5281/zenodo.2585849",
     "publisher": "Zenodo",
     "shortTitle": "geopandas/geopandas",
     "title": "geopandas/geopandas: v0.4.1",
     "title-short": "geopandas/geopandas",
     "type": "book"
    },
    "7747773/GSWXXBJF": {
     "URL": "https://www.sciencebase.gov/catalog/item/4f70b219e4b058caae3f8e19",
     "abstract": "The USGS Governmental Unit Boundaries dataset from The National Map (TNM) represents major civil areas for the Nation, including States or Territories, counties (or equivalents), Federal and Native American areas, congressional districts, minor civil divisions, incorporated places (such as cities and towns), and unincorporated places. Boundaries data are useful for understanding the extent of jurisdictional or administrative areas for a wide range of applications, including mapping or managing resources, and responding to natural disasters. Boundaries data also include extents of forest, grassland, park, wilderness, wildlife, and other reserve areas useful for recreational activities, such as hiking and backpacking. Boundaries data are acquired from a variety of government sources. The data represents the source data with minimal editing or review by USGS. Please refer to the feature-level metadata for information on the data source. The National Map boundaries data is commonly combined with other data themes, such as elevation, hydrography, structures, and transportation, to produce general reference base maps. The National Map viewer allows free downloads of public domain boundaries data in either Esri File Geodatabase or Shapefile formats. For additional information on the boundaries data model, go to http://nationalmap.gov/boundaries.html.",
     "accessed": {
      "day": 10,
      "month": 4,
      "year": 2020
     },
     "id": "7747773/GSWXXBJF",
     "title": "National Boundary Dataset (NBD) - ScienceBase-Catalog",
     "type": "webpage"
    },
    "7747773/HKUUMBMQ": {
     "abstract": "In this paper we present the tool GeoTriples that allows the transformation of Earth Observation data and geospatial data into RDF graphs, by using and extending the R2RML mapping language to be able to deal with the specificities of geospatial data. GeoTriples is a semi-automated tool that transforms geospatial information into RDF following the state of the art vocabularies like GeoSPARQL and stSPARQL, but at the same time it is not tightly coupled to a specific vocabulary.",
     "accessed": {
      "day": 10,
      "month": 4,
      "year": 2020
     },
     "author": [
      {
       "family": "Kyzirakos",
       "given": "Kostis"
      },
      {
       "family": "Vlachopoulos",
       "given": "Ioannis"
      },
      {
       "family": "Savva",
       "given": "Dimitrianos"
      },
      {
       "family": "Manegold",
       "given": "Stefan"
      },
      {
       "family": "Koubarakis",
       "given": "Manolis"
      }
     ],
     "collection-title": "ISWC-PD'14",
     "container-title": "Proceedings of the 2014 International Conference on Posters & Demonstrations Track - Volume 1272",
     "event-place": "Riva del Garda, Italy",
     "id": "7747773/HKUUMBMQ",
     "issued": {
      "day": 21,
      "month": 10,
      "year": 2014
     },
     "page": "393–396",
     "page-first": "393",
     "publisher": "CEUR-WS.org",
     "publisher-place": "Riva del Garda, Italy",
     "shortTitle": "GeoTriples",
     "title": "GeoTriples: a tool for publishing geospatial data as RDF graphs using R2RML mappings",
     "title-short": "GeoTriples",
     "type": "paper-conference"
    },
    "7747773/TE5IM5WW": {
     "author": [
      {
       "family": "Gillies",
       "given": "Sean"
      }
     ],
     "collection-title": "Fiona is OGR's neat, nimble, no-nonsense API",
     "id": "7747773/TE5IM5WW",
     "issued": {
      "year": 2011
     },
     "title": "Fiona",
     "type": "book"
    }
   }
  },
  "kernelspec": {
   "display_name": "Python 3",
   "language": "python",
   "name": "python3"
  },
  "language_info": {
   "codemirror_mode": {
    "name": "ipython",
    "version": 3
   },
   "file_extension": ".py",
   "mimetype": "text/x-python",
   "name": "python",
   "nbconvert_exporter": "python",
   "pygments_lexer": "ipython3",
   "version": "3.7.2"
  }
 },
 "nbformat": 4,
 "nbformat_minor": 4
}
