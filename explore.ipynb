{
 "cells": [
  {
   "cell_type": "markdown",
   "metadata": {},
   "source": [
    "# National Boundaries Dataset\n",
    "> Εξετάζουμε την μορφή του National Boundaries Dataset και την μετατροπή της σε μορφη RDF.\n",
    "\n",
    "Το National Boundary Database(2014)<cite data-cite=\"7747773/GSWXXBJF\"></cite> είναι ενα dataset που περιγράφει τις διοικητικές μονάδες των Ηνωμένων Πολιτειών της Αμερικής . Για την μετατροπή των δεδομένων σε RDF data και την κατασκεύη του γράφου χρησιμοποιούμε το εργαλείο GeoTriples <cite>[2]</cite> .\n",
    "\n",
    "\n",
    "Ας πάρουμε για παράδειγμα την πολιτεία της **Νέας Υόρκης** . Στο φάκελο data έχουμε το αρχείο gdb , που περιλαμβάνει η NBD για την πολιτεια .Αρχικα , θα κάνουμε χρήση των βιβλιοθηκών fiona <cite>[2]</cite> και geopandas <cite>[3]</cite> για την άναγνωση των δεδομένων του gdb."
   ]
  },
  {
   "cell_type": "code",
   "execution_count": null,
   "metadata": {},
   "outputs": [],
   "source": [
    "%matplotlib inline"
   ]
  },
  {
   "cell_type": "code",
   "execution_count": null,
   "metadata": {},
   "outputs": [],
   "source": [
    "import fiona \n",
    "import geopandas as gpd\n",
    "import pandas as pd\n",
    "import matplotlib.pyplot as plt\n",
    "import seaborn"
   ]
  },
  {
   "cell_type": "markdown",
   "metadata": {},
   "source": [
    "## Νεα Υορκη\n",
    "<img src=\"images/1280px-Flag_of_New_York.svg.png\" alt=\"Flag\" width=\"300\"  />\n",
    "<img src=\"images/New_York_in_United_States.svg\" alt=\"State\" width=\"300\" />\n",
    "Ξεκινάμε διαβάζοντας το αρχείο και εκτύπωνοντας τα δίαφορα layers."
   ]
  },
  {
   "cell_type": "code",
   "execution_count": null,
   "metadata": {},
   "outputs": [],
   "source": [
    "filepath = \"./data/GOVTUNIT_New_York_State_GDB.gdb\"\n",
    "\n",
    "layers = fiona.listlayers(filepath)\n",
    "print(layers)\n",
    "print(len(layers))"
   ]
  },
  {
   "cell_type": "markdown",
   "metadata": {},
   "source": [
    "Το αρχείο περιέχει 14 συνολικά layers . Απο αυτά τα 11 παρακάτω αντιστοιχούν σε γεωγραφικά δεδομένα , ενω τα υπόλοιπα περιέχουν πληροφορίες για τα μεταδεδομένα ."
   ]
  },
  {
   "cell_type": "code",
   "execution_count": null,
   "metadata": {},
   "outputs": [],
   "source": [
    "gulayers = ['GU_CountyOrEquivalent', 'GU_IncorporatedPlace', 'GU_StateOrTerritory', \n",
    "            'GU_MinorCivilDivision', 'GU_Reserve', 'GU_NativeAmericanArea', \n",
    "            'GU_Jurisdictional', 'GU_UnincorporatedPlace', 'GU_PLSSFirstDivision', \n",
    "            'GU_PLSSSpecialSurvey', 'GU_PLSSTownship']"
   ]
  },
  {
   "cell_type": "markdown",
   "metadata": {},
   "source": [
    "Εξετάζουμε την μορφη του κάθε layer."
   ]
  },
  {
   "cell_type": "markdown",
   "metadata": {},
   "source": [
    "Αρχικα , παρατηρούμε οτι το πιο πολυπληθές dataset είναι το GU_MinorCivilDivision με 1170 εγγραφές, ένω το λιγοτερο πολυπληθες - μεγαλυτερο του μηδεν - ειναι το StateOrTerritory με 7. "
   ]
  },
  {
   "cell_type": "code",
   "execution_count": null,
   "metadata": {},
   "outputs": [],
   "source": [
    "shapesdf = pd.DataFrame(columns=['Layer Name','Entries','Features'])\n",
    "dfDict = {}\n",
    "for idx,layer in enumerate(layers):\n",
    "    gdf = gpd.read_file(filepath,layer=layer)\n",
    "    dfDict[layer] = gdf\n",
    "    shapesdf.loc[idx] = [layer,gdf.shape[0],gdf.shape[1]]\n",
    "shapesdf = shapesdf.sort_values('Entries')\n",
    "shapesdf.head(n=14)"
   ]
  },
  {
   "cell_type": "markdown",
   "metadata": {},
   "source": [
    "## GU_StateOrTerritory\n"
   ]
  },
  {
   "cell_type": "markdown",
   "metadata": {},
   "source": [
    "Το Dataset απoτελείται απο 7 εγγραφές . Κάθε μια απο τις εγγράφες αντιστοιχεί σε μια συνορεύουσα πολιτεία .Παρατηρούμε πολλές στήλες που αντιστοιχούν σε χρήσιμες πληροφορίες για κάθες πολιτεία . \n",
    "1. Την πηγή του dataset \n",
    "2. Την Ημερομηνία δημιουργίας \n",
    "3. Ο αριθμός FIPS που είναι μοναδικός για κάθε πολιτεία \n",
    "4. Το όνομα της πολιτείας \n",
    "5. Τον πληθησμό (δεν είναι συμπληρωμένο) \n",
    "6. Το μέγεθος \n",
    "7. την γεωμετρική αναπαράσταση."
   ]
  },
  {
   "cell_type": "code",
   "execution_count": null,
   "metadata": {},
   "outputs": [],
   "source": [
    "stateDf = dfDict['GU_StateOrTerritory']\n",
    "stateDf.head(n=7)"
   ]
  },
  {
   "cell_type": "markdown",
   "metadata": {},
   "source": [
    "Καλώντας την συνάρτηση plot() παράγουμε ενα γράφημα για με τις πληροφορίες του dataset ."
   ]
  },
  {
   "cell_type": "code",
   "execution_count": null,
   "metadata": {},
   "outputs": [],
   "source": [
    "stateDf.plot(column='State_Name',figsize=(12, 20))"
   ]
  },
  {
   "cell_type": "markdown",
   "metadata": {},
   "source": [
    "## GU_CountyOrEquivalent\n",
    "Συνεχίζουμε μελετώντας την το layer GU_CountyOrEquivalent .Το dataset περιέχει παρόμοια features με το StateOrTerritory . Περιέχει , επίσης και εγγραφές απο γειτονικές πολιτείες ,(πχ. Wayne County ,PA)"
   ]
  },
  {
   "cell_type": "code",
   "execution_count": null,
   "metadata": {},
   "outputs": [],
   "source": [
    "countyDf = dfDict['GU_CountyOrEquivalent']\n",
    "countyDf.head(n=7)"
   ]
  },
  {
   "cell_type": "code",
   "execution_count": null,
   "metadata": {},
   "outputs": [],
   "source": [
    "countyDf.loc[countyDf['State_Name'] == 'New York'].plot(column='County_Name',figsize=(12, 20))\n",
    "plt.title('County or Equivalent Governmental Units in the State of New York')"
   ]
  },
  {
   "cell_type": "markdown",
   "metadata": {},
   "source": [
    "## Σύνολο των δεδομένων \n",
    "Έχοντας κατεβάσει το αρχείο .zip μεγέθους 1.9GB απο τον [συνδεσμο](https://prd-tnm.s3.amazonaws.com/StagedProducts/GovtUnit/GDB/GovernmentUnits_National_GDB.zip) . Ανοίγουμε το αρχείο , οπως και με αυτό της Νεας Υόρκης και εξετάζουμε τα δεδομένα .\n"
   ]
  },
  {
   "cell_type": "code",
   "execution_count": null,
   "metadata": {},
   "outputs": [],
   "source": [
    "bigpath = \"./data/all/GovernmentUnits_National_GDB.gdb\"\n",
    "\n",
    "layers = fiona.listlayers(bigpath)\n",
    "print(layers)\n",
    "print(len(layers))"
   ]
  },
  {
   "cell_type": "code",
   "execution_count": null,
   "metadata": {},
   "outputs": [],
   "source": [
    "gdf = gpd.read_file(bigpath,layer='GU_CountyOrEquivalent')\n",
    "print(gdf.shape[0],gdf.shape[1])"
   ]
  },
  {
   "cell_type": "code",
   "execution_count": null,
   "metadata": {
    "scrolled": true
   },
   "outputs": [],
   "source": [
    "from tqdm.autonotebook import tqdm \n",
    "tqdm.pandas()\n",
    "\n",
    "shapesdf = pd.DataFrame(columns=['Layer Name','Entries','Features'])\n",
    "for i in tqdm(range(15)):\n",
    "    gdf = gpd.read_file(bigpath,layer=layers[i])\n",
    "    shapesdf.loc[idx] = [layers[i],gdf.shape[0],gdf.shape[1]]\n",
    "shapesdf = shapesdf.sort_values('Entries')\n",
    "shapesdf.head(n=14)"
   ]
  },
  {
   "cell_type": "markdown",
   "metadata": {},
   "source": [
    "## Βιλιογραφία\n",
    "\n",
    "\n",
    "  \n",
    "    1. National Boundary Dataset (NBD) - ScienceBase-Catalog. https://www.sciencebase.gov/catalog/item/4f70b219e4b058caae3f8e19. Accessed 10 Apr 2020\n",
    "  \n",
    "  \n",
    "    2. Gillies S (2011) Fiona\n",
    "  \n",
    "  \n",
    "    3. Kelsey Jordahl, Joris Van den Bossche, Jacob Wasserman, et al (2019) geopandas/geopandas: v0.4.1. Zenodo\n",
    "  \n",
    "  \n",
    "    4. Kyzirakos K, Vlachopoulos I, Savva D, et al (2014) GeoTriples: a tool for publishing geospatial data as RDF graphs using R2RML mappings. In: Proceedings of the 2014 International Conference on Posters & Demonstrations Track - Volume 1272. CEUR-WS.org, Riva del Garda, Italy, pp 393–396\n",
    "  \n",
    "\n"
   ]
  }
 ],
 "metadata": {
  "cite2c": {
   "citations": {
    "7747773/GSWXXBJF": {
     "URL": "https://www.sciencebase.gov/catalog/item/4f70b219e4b058caae3f8e19",
     "abstract": "The USGS Governmental Unit Boundaries dataset from The National Map (TNM) represents major civil areas for the Nation, including States or Territories, counties (or equivalents), Federal and Native American areas, congressional districts, minor civil divisions, incorporated places (such as cities and towns), and unincorporated places. Boundaries data are useful for understanding the extent of jurisdictional or administrative areas for a wide range of applications, including mapping or managing resources, and responding to natural disasters. Boundaries data also include extents of forest, grassland, park, wilderness, wildlife, and other reserve areas useful for recreational activities, such as hiking and backpacking. Boundaries data are acquired from a variety of government sources. The data represents the source data with minimal editing or review by USGS. Please refer to the feature-level metadata for information on the data source. The National Map boundaries data is commonly combined with other data themes, such as elevation, hydrography, structures, and transportation, to produce general reference base maps. The National Map viewer allows free downloads of public domain boundaries data in either Esri File Geodatabase or Shapefile formats. For additional information on the boundaries data model, go to http://nationalmap.gov/boundaries.html.",
     "accessed": {
      "day": 10,
      "month": 4,
      "year": 2020
     },
     "id": "7747773/GSWXXBJF",
     "title": "National Boundary Dataset (NBD) - ScienceBase-Catalog",
     "type": "webpage"
    }
   }
  },
  "kernelspec": {
   "display_name": "Python 3",
   "language": "python",
   "name": "python3"
  },
  "language_info": {
   "codemirror_mode": {
    "name": "ipython",
    "version": 3
   },
   "file_extension": ".py",
   "mimetype": "text/x-python",
   "name": "python",
   "nbconvert_exporter": "python",
   "pygments_lexer": "ipython3",
   "version": "3.7.2"
  }
 },
 "nbformat": 4,
 "nbformat_minor": 4
}
